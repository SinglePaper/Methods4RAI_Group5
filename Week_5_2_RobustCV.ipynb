{
 "cells": [
  {
   "cell_type": "markdown",
   "metadata": {},
   "source": [
    "## Model Robustness at The Model Evaluation Stage: Repeated Cross Validation\n",
    "\n",
    "To enhance the reliability of model performance estimates, we use a repeated cross validation strategy. It addresses the variability in performance estimates due to different data splits, as a result reduces the dependecny of results to the random seed.    \n",
    "\n",
    "Here, we try to show the impact of not-using/using repeated cross valiation evaluation on the final conclusion about the performance of models. We will use the adapted Diabetes dataset (from sklearn) to the classification in our experiment. "
   ]
  },
  {
   "cell_type": "markdown",
   "metadata": {},
   "source": [
    "### Importing Packages and Data Preparation"
   ]
  },
  {
   "cell_type": "code",
   "execution_count": 4,
   "metadata": {},
   "outputs": [],
   "source": [
    "import numpy as np\n",
    "import pandas as pd\n",
    "import matplotlib.pyplot as plt\n",
    "from sklearn.datasets import load_diabetes\n",
    "from sklearn.ensemble import GradientBoostingClassifier\n",
    "from sklearn.svm import SVC\n",
    "from sklearn.model_selection import train_test_split\n",
    "from sklearn.metrics import accuracy_score\n",
    "\n",
    "# Load the Diabetes dataset\n",
    "data = pd.read_csv(\"Assignment_dataset.csv\")\n",
    "column_names = data.columns\n",
    "X = pd.DataFrame(data[column_names.drop(\"ADMISSION\")], columns=data.columns.drop(\"ADMISSION\"))\n",
    "y = data[\"ADMISSION\"]\n",
    "\n",
    "# Set a threshold for binary classification (e.g., using the median of y)\n",
    "threshold = np.median(y)\n",
    "y_binary = (y > threshold).astype(int)  # 1 for high risk, 0 for low risk"
   ]
  },
  {
   "cell_type": "markdown",
   "metadata": {},
   "source": [
    "### Experiment 1: Using a single run of cross-validation with a specific \"random\" seed\n",
    "\n",
    "Here, set the random seed to 2 (indeed, why 2?) and use this specific random seed for splitting data and control random processes in model training (for more reproducibility of resulst!)."
   ]
  },
  {
   "cell_type": "code",
   "execution_count": null,
   "metadata": {},
   "outputs": [],
   "source": [
    "random_state = 2\n",
    "\n",
    "# Split the data into training and testing sets\n",
    "X_train, X_test, y_train, y_test = train_test_split(X, y_binary, test_size=0.2, random_state=random_state)\n",
    "\n",
    "# Create, fit, and predict using the Gradient Boosting Classifier model\n",
    "gbc = GradientBoostingClassifier(random_state=random_state)\n",
    "gbc.fit(X_train, y_train)\n",
    "y_pred_gbc = gbc.predict(X_test)\n",
    "\n",
    "\n",
    "# Create, fit, and predict using the Linear Support Vector Classifier model\n",
    "svc = SVC(kernel=\"linear\", random_state=random_state)\n",
    "svc.fit(X_train, y_train)\n",
    "y_pred_svc = svc.predict(X_test)\n",
    "\n",
    "# Calculate accuracy score\n",
    "accuracy_gbc = accuracy_score(y_test, y_pred_gbc)\n",
    "accuracy_svc = accuracy_score(y_test, y_pred_svc)\n",
    "\n",
    "print(\"SVC Accuracy:\", accuracy_svc)\n",
    "print(\"GBC Accuracy:\", accuracy_gbc)"
   ]
  },
  {
   "cell_type": "markdown",
   "metadata": {},
   "source": [
    "After this very valid reproducible experiment, we claim and conclude that a Gradient boosting Cladssifer works better thatn a linear support vector classifier in classifying low/high risk diabetes patiens."
   ]
  },
  {
   "cell_type": "markdown",
   "metadata": {},
   "source": [
    "### Experiment 2: Repeated Cross Validation\n",
    "\n",
    "Now, we repeat the same experiment for 100 times using different random seeds and report summary statistics."
   ]
  },
  {
   "cell_type": "code",
   "execution_count": null,
   "metadata": {},
   "outputs": [],
   "source": [
    "repetitions = 100\n",
    "\n",
    "# Initialize a list to store accuracy scores\n",
    "gbc_accuracy = []\n",
    "svc_accuracy = []\n",
    "\n",
    "# Repeat the train/test split 20 times with different random seeds\n",
    "for i in range(repetitions):\n",
    "    random_state = i  # Use i as the random seed\n",
    "    \n",
    "    # Split the data into training and testing sets\n",
    "    X_train, X_test, y_train, y_test = train_test_split(X, y_binary, test_size=0.2, random_state=random_state)\n",
    "    \n",
    "    # Create and fit the Gradient Boosting Classifier model\n",
    "    gbc = GradientBoostingClassifier(random_state=random_state)\n",
    "    gbc.fit(X_train, y_train)\n",
    "\n",
    "    svc = SVC(kernel=\"linear\",random_state=random_state)\n",
    "    svc.fit(X_train, y_train)\n",
    "    \n",
    "    # Make predictions on the test set\n",
    "    y_pred_gbc = gbc.predict(X_test)\n",
    "    y_pred_svc = svc.predict(X_test)\n",
    "    \n",
    "    # Calculate accuracy score and append it to the list\n",
    "    gbc_accuracy.append(accuracy_score(y_test, y_pred_gbc))\n",
    "    svc_accuracy.append(accuracy_score(y_test, y_pred_svc))\n",
    "\n",
    "\n",
    "# Plot a boxplot of the accuracies\n",
    "plt.boxplot([gbc_accuracy, svc_accuracy])\n",
    "plt.title('Boxplot of Accuracies across 20 Repetitions')\n",
    "plt.xticks([1,2],['GBC','SVC'])\n",
    "plt.ylabel('Accuracy')\n",
    "plt.show()\n"
   ]
  },
  {
   "cell_type": "markdown",
   "metadata": {},
   "source": [
    "In some repetitions (and with some random seeds) the GBC works better thatn SVC and in some others SVC works better than GBC, but overal SVC seems to be a better choice. This contradicts with the conclution of our previous experiment, but it is more reliable comparison and conclusion, and at the same time it is also reproducible."
   ]
  },
  {
   "cell_type": "markdown",
   "metadata": {},
   "source": [
    "**Exercise 5.2**: To check the reliability of results, repeat the second expriment with a different set of random seeds (let's say 100 to 200 or any other arbitrary choice). Is our final conclusion valid one?"
   ]
  }
 ],
 "metadata": {
  "kernelspec": {
   "display_name": "Python 3",
   "language": "python",
   "name": "python3"
  },
  "language_info": {
   "codemirror_mode": {
    "name": "ipython",
    "version": 3
   },
   "file_extension": ".py",
   "mimetype": "text/x-python",
   "name": "python",
   "nbconvert_exporter": "python",
   "pygments_lexer": "ipython3",
   "version": "3.12.4"
  },
  "orig_nbformat": 4
 },
 "nbformat": 4,
 "nbformat_minor": 2
}
