{
 "cells": [
  {
   "cell_type": "markdown",
   "metadata": {},
   "source": [
    "# Practical Session on Exploratory Data Analysis for Machine Learning Applications"
   ]
  },
  {
   "cell_type": "code",
   "execution_count": 1,
   "metadata": {
    "tags": []
   },
   "outputs": [],
   "source": [
    "# Import necessary libraries\n",
    "import pandas as pd\n",
    "import numpy as np\n",
    "import matplotlib.pyplot as plt\n",
    "import seaborn as sns\n",
    "# from sklearn import datasets\n"
   ]
  },
  {
   "cell_type": "code",
   "execution_count": 2,
   "metadata": {
    "tags": []
   },
   "outputs": [],
   "source": [
    "# Load the dataset from scikit-learn\n",
    "# diabetes = datasets.load_diabetes()\n",
    "data = pd.read_csv(\"Assignment_dataset.csv\")\n"
   ]
  },
  {
   "cell_type": "code",
   "execution_count": 3,
   "metadata": {
    "tags": []
   },
   "outputs": [
    {
     "data": {
      "text/html": [
       "<div>\n",
       "<style scoped>\n",
       "    .dataframe tbody tr th:only-of-type {\n",
       "        vertical-align: middle;\n",
       "    }\n",
       "\n",
       "    .dataframe tbody tr th {\n",
       "        vertical-align: top;\n",
       "    }\n",
       "\n",
       "    .dataframe thead th {\n",
       "        text-align: right;\n",
       "    }\n",
       "</style>\n",
       "<table border=\"1\" class=\"dataframe\">\n",
       "  <thead>\n",
       "    <tr style=\"text-align: right;\">\n",
       "      <th></th>\n",
       "      <th>ADMISSION</th>\n",
       "      <th>NATURAL_SCIENCE_SCORE</th>\n",
       "      <th>ENGLISH_SCORE</th>\n",
       "      <th>READING_SCORE</th>\n",
       "      <th>MATH_SCORE</th>\n",
       "      <th>SOCIAL_SCIENCE_SCORE</th>\n",
       "      <th>SCHOOL_CALENDAR</th>\n",
       "      <th>PUBLIC_SCHOOL</th>\n",
       "      <th>BILINGUAL_SCHOOL</th>\n",
       "      <th>GENDER</th>\n",
       "      <th>AGE</th>\n",
       "      <th>PARENTS_EDUCATION</th>\n",
       "      <th>FAMILY_INCOME_LEVEL</th>\n",
       "      <th>PEOPLE_AT_HOME</th>\n",
       "      <th>FAMILY_HAS_CAR</th>\n",
       "      <th>HAS_INTERNET_ACCESS</th>\n",
       "    </tr>\n",
       "  </thead>\n",
       "  <tbody>\n",
       "    <tr>\n",
       "      <th>0</th>\n",
       "      <td>False</td>\n",
       "      <td>49</td>\n",
       "      <td>48</td>\n",
       "      <td>57</td>\n",
       "      <td>25</td>\n",
       "      <td>48</td>\n",
       "      <td>A</td>\n",
       "      <td>True</td>\n",
       "      <td>False</td>\n",
       "      <td>F</td>\n",
       "      <td>16.0</td>\n",
       "      <td>Vocational</td>\n",
       "      <td>3</td>\n",
       "      <td>3 or 4</td>\n",
       "      <td>False</td>\n",
       "      <td>True</td>\n",
       "    </tr>\n",
       "    <tr>\n",
       "      <th>1</th>\n",
       "      <td>False</td>\n",
       "      <td>60</td>\n",
       "      <td>55</td>\n",
       "      <td>68</td>\n",
       "      <td>60</td>\n",
       "      <td>68</td>\n",
       "      <td>A</td>\n",
       "      <td>True</td>\n",
       "      <td>False</td>\n",
       "      <td>M</td>\n",
       "      <td>17.0</td>\n",
       "      <td>Primary</td>\n",
       "      <td>1</td>\n",
       "      <td>7+</td>\n",
       "      <td>False</td>\n",
       "      <td>True</td>\n",
       "    </tr>\n",
       "    <tr>\n",
       "      <th>2</th>\n",
       "      <td>True</td>\n",
       "      <td>76</td>\n",
       "      <td>79</td>\n",
       "      <td>68</td>\n",
       "      <td>100</td>\n",
       "      <td>72</td>\n",
       "      <td>A</td>\n",
       "      <td>False</td>\n",
       "      <td>False</td>\n",
       "      <td>M</td>\n",
       "      <td>17.0</td>\n",
       "      <td>University</td>\n",
       "      <td>3</td>\n",
       "      <td>3 or 4</td>\n",
       "      <td>False</td>\n",
       "      <td>True</td>\n",
       "    </tr>\n",
       "    <tr>\n",
       "      <th>3</th>\n",
       "      <td>True</td>\n",
       "      <td>73</td>\n",
       "      <td>79</td>\n",
       "      <td>66</td>\n",
       "      <td>83</td>\n",
       "      <td>72</td>\n",
       "      <td>A</td>\n",
       "      <td>False</td>\n",
       "      <td>False</td>\n",
       "      <td>M</td>\n",
       "      <td>17.0</td>\n",
       "      <td>University</td>\n",
       "      <td>3</td>\n",
       "      <td>3 or 4</td>\n",
       "      <td>False</td>\n",
       "      <td>True</td>\n",
       "    </tr>\n",
       "    <tr>\n",
       "      <th>4</th>\n",
       "      <td>False</td>\n",
       "      <td>52</td>\n",
       "      <td>56</td>\n",
       "      <td>56</td>\n",
       "      <td>28</td>\n",
       "      <td>53</td>\n",
       "      <td>A</td>\n",
       "      <td>True</td>\n",
       "      <td>False</td>\n",
       "      <td>F</td>\n",
       "      <td>15.0</td>\n",
       "      <td>Primary</td>\n",
       "      <td>1</td>\n",
       "      <td>3 or 4</td>\n",
       "      <td>False</td>\n",
       "      <td>False</td>\n",
       "    </tr>\n",
       "    <tr>\n",
       "      <th>...</th>\n",
       "      <td>...</td>\n",
       "      <td>...</td>\n",
       "      <td>...</td>\n",
       "      <td>...</td>\n",
       "      <td>...</td>\n",
       "      <td>...</td>\n",
       "      <td>...</td>\n",
       "      <td>...</td>\n",
       "      <td>...</td>\n",
       "      <td>...</td>\n",
       "      <td>...</td>\n",
       "      <td>...</td>\n",
       "      <td>...</td>\n",
       "      <td>...</td>\n",
       "      <td>...</td>\n",
       "      <td>...</td>\n",
       "    </tr>\n",
       "    <tr>\n",
       "      <th>136873</th>\n",
       "      <td>False</td>\n",
       "      <td>54</td>\n",
       "      <td>47</td>\n",
       "      <td>48</td>\n",
       "      <td>62</td>\n",
       "      <td>43</td>\n",
       "      <td>A</td>\n",
       "      <td>True</td>\n",
       "      <td>False</td>\n",
       "      <td>M</td>\n",
       "      <td>17.0</td>\n",
       "      <td>Vocational</td>\n",
       "      <td>3</td>\n",
       "      <td>3 or 4</td>\n",
       "      <td>False</td>\n",
       "      <td>True</td>\n",
       "    </tr>\n",
       "    <tr>\n",
       "      <th>136874</th>\n",
       "      <td>False</td>\n",
       "      <td>44</td>\n",
       "      <td>35</td>\n",
       "      <td>46</td>\n",
       "      <td>39</td>\n",
       "      <td>31</td>\n",
       "      <td>A</td>\n",
       "      <td>True</td>\n",
       "      <td>False</td>\n",
       "      <td>F</td>\n",
       "      <td>18.0</td>\n",
       "      <td>Secondary</td>\n",
       "      <td>2</td>\n",
       "      <td>3 or 4</td>\n",
       "      <td>False</td>\n",
       "      <td>True</td>\n",
       "    </tr>\n",
       "    <tr>\n",
       "      <th>136875</th>\n",
       "      <td>False</td>\n",
       "      <td>43</td>\n",
       "      <td>43</td>\n",
       "      <td>43</td>\n",
       "      <td>12</td>\n",
       "      <td>46</td>\n",
       "      <td>A</td>\n",
       "      <td>True</td>\n",
       "      <td>False</td>\n",
       "      <td>M</td>\n",
       "      <td>16.0</td>\n",
       "      <td>Secondary</td>\n",
       "      <td>1</td>\n",
       "      <td>3 or 4</td>\n",
       "      <td>False</td>\n",
       "      <td>True</td>\n",
       "    </tr>\n",
       "    <tr>\n",
       "      <th>136876</th>\n",
       "      <td>False</td>\n",
       "      <td>60</td>\n",
       "      <td>49</td>\n",
       "      <td>71</td>\n",
       "      <td>60</td>\n",
       "      <td>66</td>\n",
       "      <td>A</td>\n",
       "      <td>False</td>\n",
       "      <td>False</td>\n",
       "      <td>M</td>\n",
       "      <td>16.0</td>\n",
       "      <td>Secondary</td>\n",
       "      <td>2</td>\n",
       "      <td>3 or 4</td>\n",
       "      <td>False</td>\n",
       "      <td>True</td>\n",
       "    </tr>\n",
       "    <tr>\n",
       "      <th>136877</th>\n",
       "      <td>False</td>\n",
       "      <td>51</td>\n",
       "      <td>45</td>\n",
       "      <td>54</td>\n",
       "      <td>39</td>\n",
       "      <td>57</td>\n",
       "      <td>A</td>\n",
       "      <td>True</td>\n",
       "      <td>False</td>\n",
       "      <td>F</td>\n",
       "      <td>17.0</td>\n",
       "      <td>Primary</td>\n",
       "      <td>1</td>\n",
       "      <td>3 or 4</td>\n",
       "      <td>False</td>\n",
       "      <td>True</td>\n",
       "    </tr>\n",
       "  </tbody>\n",
       "</table>\n",
       "<p>136878 rows × 16 columns</p>\n",
       "</div>"
      ],
      "text/plain": [
       "        ADMISSION  NATURAL_SCIENCE_SCORE  ENGLISH_SCORE  READING_SCORE  \\\n",
       "0           False                     49             48             57   \n",
       "1           False                     60             55             68   \n",
       "2            True                     76             79             68   \n",
       "3            True                     73             79             66   \n",
       "4           False                     52             56             56   \n",
       "...           ...                    ...            ...            ...   \n",
       "136873      False                     54             47             48   \n",
       "136874      False                     44             35             46   \n",
       "136875      False                     43             43             43   \n",
       "136876      False                     60             49             71   \n",
       "136877      False                     51             45             54   \n",
       "\n",
       "        MATH_SCORE  SOCIAL_SCIENCE_SCORE SCHOOL_CALENDAR  PUBLIC_SCHOOL  \\\n",
       "0               25                    48               A           True   \n",
       "1               60                    68               A           True   \n",
       "2              100                    72               A          False   \n",
       "3               83                    72               A          False   \n",
       "4               28                    53               A           True   \n",
       "...            ...                   ...             ...            ...   \n",
       "136873          62                    43               A           True   \n",
       "136874          39                    31               A           True   \n",
       "136875          12                    46               A           True   \n",
       "136876          60                    66               A          False   \n",
       "136877          39                    57               A           True   \n",
       "\n",
       "        BILINGUAL_SCHOOL GENDER   AGE PARENTS_EDUCATION FAMILY_INCOME_LEVEL  \\\n",
       "0                  False      F  16.0        Vocational                   3   \n",
       "1                  False      M  17.0           Primary                   1   \n",
       "2                  False      M  17.0        University                   3   \n",
       "3                  False      M  17.0        University                   3   \n",
       "4                  False      F  15.0           Primary                   1   \n",
       "...                  ...    ...   ...               ...                 ...   \n",
       "136873             False      M  17.0        Vocational                   3   \n",
       "136874             False      F  18.0         Secondary                   2   \n",
       "136875             False      M  16.0         Secondary                   1   \n",
       "136876             False      M  16.0         Secondary                   2   \n",
       "136877             False      F  17.0           Primary                   1   \n",
       "\n",
       "       PEOPLE_AT_HOME  FAMILY_HAS_CAR  HAS_INTERNET_ACCESS  \n",
       "0              3 or 4           False                 True  \n",
       "1                  7+           False                 True  \n",
       "2              3 or 4           False                 True  \n",
       "3              3 or 4           False                 True  \n",
       "4              3 or 4           False                False  \n",
       "...               ...             ...                  ...  \n",
       "136873         3 or 4           False                 True  \n",
       "136874         3 or 4           False                 True  \n",
       "136875         3 or 4           False                 True  \n",
       "136876         3 or 4           False                 True  \n",
       "136877         3 or 4           False                 True  \n",
       "\n",
       "[136878 rows x 16 columns]"
      ]
     },
     "execution_count": 3,
     "metadata": {},
     "output_type": "execute_result"
    }
   ],
   "source": [
    "data"
   ]
  },
  {
   "cell_type": "code",
   "execution_count": 4,
   "metadata": {},
   "outputs": [
    {
     "name": "stderr",
     "output_type": "stream",
     "text": [
      "C:\\Users\\stefa\\AppData\\Local\\Temp\\ipykernel_27500\\2422275254.py:1: FutureWarning: Setting an item of incompatible dtype is deprecated and will raise an error in a future version of pandas. Value '0' has dtype incompatible with bool, please explicitly cast to a compatible dtype first.\n",
      "  data.loc[data.ADMISSION == False, \"ADMISSION\"] = 0\n"
     ]
    },
    {
     "data": {
      "text/plain": [
       "0         0\n",
       "1         0\n",
       "2         1\n",
       "3         1\n",
       "4         0\n",
       "         ..\n",
       "136873    0\n",
       "136874    0\n",
       "136875    0\n",
       "136876    0\n",
       "136877    0\n",
       "Name: ADMISSION, Length: 136878, dtype: int64"
      ]
     },
     "execution_count": 4,
     "metadata": {},
     "output_type": "execute_result"
    }
   ],
   "source": [
    "data.loc[data.ADMISSION == False, \"ADMISSION\"] = 0\n",
    "data.loc[data.ADMISSION == True, \"ADMISSION\"] = 1\n",
    "data.ADMISSION = pd.to_numeric(data.ADMISSION)\n",
    "data[\"ADMISSION\"]"
   ]
  },
  {
   "cell_type": "code",
   "execution_count": 5,
   "metadata": {
    "tags": []
   },
   "outputs": [
    {
     "name": "stdout",
     "output_type": "stream",
     "text": [
      "   ADMISSION  NATURAL_SCIENCE_SCORE  ENGLISH_SCORE  READING_SCORE  MATH_SCORE  \\\n",
      "0          0                     49             48             57          25   \n",
      "1          0                     60             55             68          60   \n",
      "2          1                     76             79             68         100   \n",
      "3          1                     73             79             66          83   \n",
      "4          0                     52             56             56          28   \n",
      "\n",
      "   SOCIAL_SCIENCE_SCORE SCHOOL_CALENDAR  PUBLIC_SCHOOL  BILINGUAL_SCHOOL  \\\n",
      "0                    48               A           True             False   \n",
      "1                    68               A           True             False   \n",
      "2                    72               A          False             False   \n",
      "3                    72               A          False             False   \n",
      "4                    53               A           True             False   \n",
      "\n",
      "  GENDER   AGE PARENTS_EDUCATION FAMILY_INCOME_LEVEL PEOPLE_AT_HOME  \\\n",
      "0      F  16.0        Vocational                   3         3 or 4   \n",
      "1      M  17.0           Primary                   1             7+   \n",
      "2      M  17.0        University                   3         3 or 4   \n",
      "3      M  17.0        University                   3         3 or 4   \n",
      "4      F  15.0           Primary                   1         3 or 4   \n",
      "\n",
      "   FAMILY_HAS_CAR  HAS_INTERNET_ACCESS  \n",
      "0           False                 True  \n",
      "1           False                 True  \n",
      "2           False                 True  \n",
      "3           False                 True  \n",
      "4           False                False  \n",
      "\n",
      "Shape of the dataset: (136878, 16)\n",
      "\n",
      "Data types of each column:\n",
      "ADMISSION                  int64\n",
      "NATURAL_SCIENCE_SCORE      int64\n",
      "ENGLISH_SCORE              int64\n",
      "READING_SCORE              int64\n",
      "MATH_SCORE                 int64\n",
      "SOCIAL_SCIENCE_SCORE       int64\n",
      "SCHOOL_CALENDAR           object\n",
      "PUBLIC_SCHOOL               bool\n",
      "BILINGUAL_SCHOOL            bool\n",
      "GENDER                    object\n",
      "AGE                      float64\n",
      "PARENTS_EDUCATION         object\n",
      "FAMILY_INCOME_LEVEL       object\n",
      "PEOPLE_AT_HOME            object\n",
      "FAMILY_HAS_CAR              bool\n",
      "HAS_INTERNET_ACCESS         bool\n",
      "dtype: object\n",
      "\n",
      "Missing values in each column:\n",
      "ADMISSION                  0\n",
      "NATURAL_SCIENCE_SCORE      0\n",
      "ENGLISH_SCORE              0\n",
      "READING_SCORE              0\n",
      "MATH_SCORE                 0\n",
      "SOCIAL_SCIENCE_SCORE       0\n",
      "SCHOOL_CALENDAR            0\n",
      "PUBLIC_SCHOOL              0\n",
      "BILINGUAL_SCHOOL           0\n",
      "GENDER                     0\n",
      "AGE                        0\n",
      "PARENTS_EDUCATION        831\n",
      "FAMILY_INCOME_LEVEL        0\n",
      "PEOPLE_AT_HOME             0\n",
      "FAMILY_HAS_CAR             0\n",
      "HAS_INTERNET_ACCESS        0\n",
      "dtype: int64\n"
     ]
    }
   ],
   "source": [
    "# 1. Initial Data Exploration:\n",
    "print(data.head())\n",
    "print(\"\\nShape of the dataset:\", data.shape)\n",
    "print(\"\\nData types of each column:\")\n",
    "print(data.dtypes)\n",
    "print(\"\\nMissing values in each column:\")\n",
    "print(data.isnull().sum())\n"
   ]
  },
  {
   "cell_type": "code",
   "execution_count": 6,
   "metadata": {
    "tags": []
   },
   "outputs": [
    {
     "name": "stdout",
     "output_type": "stream",
     "text": [
      "\n",
      "Summary statistics for numerical columns:\n",
      "           ADMISSION  NATURAL_SCIENCE_SCORE  ENGLISH_SCORE  READING_SCORE  \\\n",
      "count  136878.000000          136878.000000  136878.000000  136878.000000   \n",
      "mean        0.415881              57.231199      59.650828      58.252436   \n",
      "std         0.492875              10.216689      13.367733       9.202312   \n",
      "min         0.000000              20.000000       0.000000       2.000000   \n",
      "25%         0.000000              50.000000      50.000000      52.000000   \n",
      "50%         0.000000              57.000000      58.000000      58.000000   \n",
      "75%         1.000000              64.000000      68.000000      65.000000   \n",
      "max         1.000000             100.000000     100.000000     100.000000   \n",
      "\n",
      "          MATH_SCORE  SOCIAL_SCIENCE_SCORE            AGE  \n",
      "count  136878.000000         136878.000000  136878.000000  \n",
      "mean       54.504500             58.033292      16.862082  \n",
      "std        20.038892             10.270291       0.863900  \n",
      "min         0.000000             14.000000      15.000000  \n",
      "25%        40.000000             51.000000      16.000000  \n",
      "50%        53.000000             58.000000      17.000000  \n",
      "75%        68.000000             65.000000      17.000000  \n",
      "max       100.000000            100.000000      20.000000  \n"
     ]
    }
   ],
   "source": [
    "# 2. Summary Statistics:\n",
    "print(\"\\nSummary statistics for numerical columns:\")\n",
    "print(data.describe())\n"
   ]
  },
  {
   "cell_type": "code",
   "execution_count": 7,
   "metadata": {
    "tags": []
   },
   "outputs": [
    {
     "data": {
      "image/png": "[encoded data removed]",
      "text/plain": [
       "<Figure size 640x480 with 1 Axes>"
      ]
     },
     "metadata": {},
     "output_type": "display_data"
    },
    {
     "data": {
      "image/png": "[encoded data removed]",
      "text/plain": [
       "<Figure size 640x480 with 1 Axes>"
      ]
     },
     "metadata": {},
     "output_type": "display_data"
    }
   ],
   "source": [
    "# 3. Visual Exploratory Data Analysis:\n",
    "data['NATURAL_SCIENCE_SCORE'].hist()\n",
    "plt.title('Histogram of NATURAL_SCIENCE_SCORE')\n",
    "plt.xlabel('NATURAL_SCIENCE_SCORE')\n",
    "plt.ylabel('Frequency')\n",
    "plt.show()\n",
    "\n",
    "sns.boxplot(data['NATURAL_SCIENCE_SCORE'])\n",
    "plt.title('Boxplot of NATURAL_SCIENCE_SCORE')\n",
    "plt.show()"
   ]
  },
  {
   "cell_type": "code",
   "execution_count": 8,
   "metadata": {
    "tags": []
   },
   "outputs": [
    {
     "ename": "NameError",
     "evalue": "name 'numerical' is not defined",
     "output_type": "error",
     "traceback": [
      "\u001b[1;31m---------------------------------------------------------------------------\u001b[0m",
      "\u001b[1;31mNameError\u001b[0m                                 Traceback (most recent call last)",
      "Cell \u001b[1;32mIn[8], line 2\u001b[0m\n\u001b[0;32m      1\u001b[0m \u001b[38;5;66;03m# 4. Correlation Analysis:\u001b[39;00m\n\u001b[1;32m----> 2\u001b[0m plotted_columns \u001b[38;5;241m=\u001b[39m \u001b[43mnumerical\u001b[49m\u001b[38;5;241m.\u001b[39mjoin(data\u001b[38;5;241m.\u001b[39mADMISSION)\n\u001b[0;32m      4\u001b[0m correlation_matrix \u001b[38;5;241m=\u001b[39m plotted_columns\u001b[38;5;241m.\u001b[39mcorr()\n\u001b[0;32m      5\u001b[0m plt\u001b[38;5;241m.\u001b[39mfigure(figsize\u001b[38;5;241m=\u001b[39m(\u001b[38;5;241m10\u001b[39m,\u001b[38;5;241m8\u001b[39m))\n",
      "\u001b[1;31mNameError\u001b[0m: name 'numerical' is not defined"
     ]
    }
   ],
   "source": [
    "# 4. Correlation Analysis:\n",
    "plotted_columns = numerical.join(data.ADMISSION)\n",
    "\n",
    "correlation_matrix = plotted_columns.corr()\n",
    "plt.figure(figsize=(10,8))\n",
    "sns.heatmap(correlation_matrix, annot=True, cmap='coolwarm')\n",
    "plt.title('Correlation Matrix Heatmap')\n",
    "plt.show()"
   ]
  },
  {
   "cell_type": "code",
   "execution_count": 16,
   "metadata": {
    "tags": []
   },
   "outputs": [],
   "source": [
    "\n",
    "# 5. Advanced EDA:\n",
    "# We'll use pairplot on a subset of columns for simplicity\n",
    "#sns.pairplot(data[['age', 'sex', 'bmi', 'bp', 'target']])\n",
    "#plt.show()"
   ]
  },
  {
   "cell_type": "code",
   "execution_count": 9,
   "metadata": {
    "tags": []
   },
   "outputs": [
    {
     "data": {
      "text/plain": [
       "0         0\n",
       "1         1\n",
       "2         1\n",
       "3         1\n",
       "4         0\n",
       "         ..\n",
       "136873    1\n",
       "136874    0\n",
       "136875    1\n",
       "136876    1\n",
       "136877    0\n",
       "Name: GENDER, Length: 136878, dtype: object"
      ]
     },
     "execution_count": 9,
     "metadata": {},
     "output_type": "execute_result"
    }
   ],
   "source": [
    "#data.loc[data.GENDER == \"F\", \"GENDER\"] = 0\n",
    "#data.loc[data.GENDER == \"M\", \"GENDER\"] = 1\n",
    "#data[\"GENDER\"]"
   ]
  },
  {
   "cell_type": "code",
   "execution_count": 9,
   "metadata": {
    "tags": []
   },
   "outputs": [
    {
     "name": "stdout",
     "output_type": "stream",
     "text": [
      "numericals:\n",
      "Index(['ADMISSION', 'NATURAL_SCIENCE_SCORE', 'ENGLISH_SCORE', 'READING_SCORE',\n",
      "       'MATH_SCORE', 'SOCIAL_SCIENCE_SCORE', 'AGE'],\n",
      "      dtype='object')\n",
      "Booleans:\n",
      "Index(['PUBLIC_SCHOOL', 'BILINGUAL_SCHOOL', 'FAMILY_HAS_CAR',\n",
      "       'HAS_INTERNET_ACCESS'],\n",
      "      dtype='object')\n",
      "categoricals:\n",
      "Index(['SCHOOL_CALENDAR', 'GENDER', 'PARENTS_EDUCATION', 'FAMILY_INCOME_LEVEL',\n",
      "       'PEOPLE_AT_HOME'],\n",
      "      dtype='object')\n"
     ]
    }
   ],
   "source": [
    "data.drop(columns=[\"ADMISSION\"])\n",
    "numerical= data.select_dtypes(include= [\"int64\", \"float64\"]).columns\n",
    "boolean = data.select_dtypes(include= [\"bool\"]).columns\n",
    "categorical = data.select_dtypes(include= [\"object\"]).columns\n",
    "\n",
    "print(\"numericals:\")\n",
    "print(numerical)\n",
    "print(\"Booleans:\")\n",
    "print(boolean)\n",
    "print(\"categoricals:\")\n",
    "print(categorical)"
   ]
  },
  {
   "cell_type": "code",
   "execution_count": 10,
   "metadata": {
    "tags": []
   },
   "outputs": [],
   "source": [
    "from sklearn.compose import ColumnTransformer\n",
    "from sklearn.pipeline import Pipeline\n",
    "from sklearn.preprocessing import OneHotEncoder, StandardScaler\n",
    "\n",
    "\n",
    "numeric_transformer = Pipeline(\n",
    "    steps=[(\"scaler\", StandardScaler())]\n",
    ")\n",
    "\n",
    "categorical_transformer = Pipeline(\n",
    "    steps=[\n",
    "        (\"encoder\", OneHotEncoder(handle_unknown=\"ignore\")),\n",
    "    ]\n",
    ")\n",
    "binary_transformer = \"passthrough\"\n",
    "\n",
    "preprocessor = ColumnTransformer(\n",
    "    transformers=[\n",
    "        (\"num\", numeric_transformer, numerical),\n",
    "        (\"cat\", categorical_transformer, categorical),\n",
    "        (\"bin\", binary_transformer, boolean)\n",
    "    ]\n",
    ")"
   ]
  },
  {
   "cell_type": "code",
   "execution_count": 11,
   "metadata": {
    "tags": []
   },
   "outputs": [
    {
     "name": "stdout",
     "output_type": "stream",
     "text": [
      "[[-0.84378954 -0.805665   -0.87156668 ...  0.          0.\n",
      "   1.        ]\n",
      " [-0.84378954  0.2710087  -0.34791575 ...  0.          0.\n",
      "   1.        ]\n",
      " [ 1.18512965  1.83707952  1.44745887 ...  0.          0.\n",
      "   1.        ]\n",
      " ...\n",
      " [-0.84378954 -1.39294156 -1.24560306 ...  0.          0.\n",
      "   1.        ]\n",
      " [-0.84378954  0.2710087  -0.79675941 ...  0.          0.\n",
      "   1.        ]\n",
      " [-0.84378954 -0.60990615 -1.09598851 ...  0.          0.\n",
      "   1.        ]]\n",
      "(136878, 34)\n"
     ]
    }
   ],
   "source": [
    "preprocessor.fit(data)\n",
    "preprocessed_data = preprocessor.transform(data)\n",
    "print(preprocessed_data)\n",
    "print(preprocessed_data.shape)"
   ]
  },
  {
   "cell_type": "code",
   "execution_count": null,
   "metadata": {},
   "outputs": [],
   "source": []
  }
 ],
 "metadata": {
  "kernelspec": {
   "display_name": "Python 3",
   "language": "python",
   "name": "python3"
  },
  "language_info": {
   "codemirror_mode": {
    "name": "ipython",
    "version": 3
   },
   "file_extension": ".py",
   "mimetype": "text/x-python",
   "name": "python",
   "nbconvert_exporter": "python",
   "pygments_lexer": "ipython3",
   "version": "3.12.4"
  }
 },
 "nbformat": 4,
 "nbformat_minor": 4
}
