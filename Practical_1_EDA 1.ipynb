{
 "cells": [
  {
   "cell_type": "markdown",
   "metadata": {},
   "source": [
    "# Practical Session on Exploratory Data Analysis for Machine Learning Applications"
   ]
  },
  {
   "cell_type": "code",
   "execution_count": 1,
   "metadata": {
    "tags": []
   },
   "outputs": [
    {
     "name": "stdout",
     "output_type": "stream",
     "text": [
      "Requirement already satisfied: matplotlib in c:\\users\\hajko\\appdata\\local\\packages\\pythonsoftwarefoundation.python.3.10_qbz5n2kfra8p0\\localcache\\local-packages\\python310\\site-packages (3.9.2)\n",
      "Requirement already satisfied: contourpy>=1.0.1 in c:\\users\\hajko\\appdata\\local\\packages\\pythonsoftwarefoundation.python.3.10_qbz5n2kfra8p0\\localcache\\local-packages\\python310\\site-packages (from matplotlib) (1.3.0)\n",
      "Requirement already satisfied: python-dateutil>=2.7 in c:\\users\\hajko\\appdata\\local\\packages\\pythonsoftwarefoundation.python.3.10_qbz5n2kfra8p0\\localcache\\local-packages\\python310\\site-packages (from matplotlib) (2.9.0.post0)\n",
      "Requirement already satisfied: cycler>=0.10 in c:\\users\\hajko\\appdata\\local\\packages\\pythonsoftwarefoundation.python.3.10_qbz5n2kfra8p0\\localcache\\local-packages\\python310\\site-packages (from matplotlib) (0.12.1)\n",
      "Requirement already satisfied: pyparsing>=2.3.1 in c:\\users\\hajko\\appdata\\local\\packages\\pythonsoftwarefoundation.python.3.10_qbz5n2kfra8p0\\localcache\\local-packages\\python310\\site-packages (from matplotlib) (3.2.0)\n",
      "Requirement already satisfied: kiwisolver>=1.3.1 in c:\\users\\hajko\\appdata\\local\\packages\\pythonsoftwarefoundation.python.3.10_qbz5n2kfra8p0\\localcache\\local-packages\\python310\\site-packages (from matplotlib) (1.4.7)\n",
      "Requirement already satisfied: packaging>=20.0 in c:\\users\\hajko\\appdata\\local\\packages\\pythonsoftwarefoundation.python.3.10_qbz5n2kfra8p0\\localcache\\local-packages\\python310\\site-packages (from matplotlib) (24.1)\n",
      "Requirement already satisfied: fonttools>=4.22.0 in c:\\users\\hajko\\appdata\\local\\packages\\pythonsoftwarefoundation.python.3.10_qbz5n2kfra8p0\\localcache\\local-packages\\python310\\site-packages (from matplotlib) (4.54.1)\n",
      "Requirement already satisfied: numpy>=1.23 in c:\\users\\hajko\\appdata\\local\\packages\\pythonsoftwarefoundation.python.3.10_qbz5n2kfra8p0\\localcache\\local-packages\\python310\\site-packages (from matplotlib) (1.26.4)\n",
      "Requirement already satisfied: pillow>=8 in c:\\users\\hajko\\appdata\\local\\packages\\pythonsoftwarefoundation.python.3.10_qbz5n2kfra8p0\\localcache\\local-packages\\python310\\site-packages (from matplotlib) (11.0.0)\n",
      "Requirement already satisfied: six>=1.5 in c:\\users\\hajko\\appdata\\local\\packages\\pythonsoftwarefoundation.python.3.10_qbz5n2kfra8p0\\localcache\\local-packages\\python310\\site-packages (from python-dateutil>=2.7->matplotlib) (1.16.0)\n"
     ]
    },
    {
     "name": "stderr",
     "output_type": "stream",
     "text": [
      "\n",
      "[notice] A new release of pip is available: 23.0.1 -> 24.3.1\n",
      "[notice] To update, run: C:\\Users\\hajko\\AppData\\Local\\Microsoft\\WindowsApps\\PythonSoftwareFoundation.Python.3.10_qbz5n2kfra8p0\\python.exe -m pip install --upgrade pip\n"
     ]
    },
    {
     "name": "stdout",
     "output_type": "stream",
     "text": [
      "Requirement already satisfied: seaborn in c:\\users\\hajko\\appdata\\local\\packages\\pythonsoftwarefoundation.python.3.10_qbz5n2kfra8p0\\localcache\\local-packages\\python310\\site-packages (0.13.2)\n",
      "Requirement already satisfied: pandas>=1.2 in c:\\users\\hajko\\appdata\\local\\packages\\pythonsoftwarefoundation.python.3.10_qbz5n2kfra8p0\\localcache\\local-packages\\python310\\site-packages (from seaborn) (2.2.3)\n",
      "Requirement already satisfied: numpy!=1.24.0,>=1.20 in c:\\users\\hajko\\appdata\\local\\packages\\pythonsoftwarefoundation.python.3.10_qbz5n2kfra8p0\\localcache\\local-packages\\python310\\site-packages (from seaborn) (1.26.4)\n",
      "Requirement already satisfied: matplotlib!=3.6.1,>=3.4 in c:\\users\\hajko\\appdata\\local\\packages\\pythonsoftwarefoundation.python.3.10_qbz5n2kfra8p0\\localcache\\local-packages\\python310\\site-packages (from seaborn) (3.9.2)\n",
      "Requirement already satisfied: pyparsing>=2.3.1 in c:\\users\\hajko\\appdata\\local\\packages\\pythonsoftwarefoundation.python.3.10_qbz5n2kfra8p0\\localcache\\local-packages\\python310\\site-packages (from matplotlib!=3.6.1,>=3.4->seaborn) (3.2.0)\n",
      "Requirement already satisfied: cycler>=0.10 in c:\\users\\hajko\\appdata\\local\\packages\\pythonsoftwarefoundation.python.3.10_qbz5n2kfra8p0\\localcache\\local-packages\\python310\\site-packages (from matplotlib!=3.6.1,>=3.4->seaborn) (0.12.1)\n",
      "Requirement already satisfied: packaging>=20.0 in c:\\users\\hajko\\appdata\\local\\packages\\pythonsoftwarefoundation.python.3.10_qbz5n2kfra8p0\\localcache\\local-packages\\python310\\site-packages (from matplotlib!=3.6.1,>=3.4->seaborn) (24.1)\n",
      "Requirement already satisfied: kiwisolver>=1.3.1 in c:\\users\\hajko\\appdata\\local\\packages\\pythonsoftwarefoundation.python.3.10_qbz5n2kfra8p0\\localcache\\local-packages\\python310\\site-packages (from matplotlib!=3.6.1,>=3.4->seaborn) (1.4.7)\n",
      "Requirement already satisfied: contourpy>=1.0.1 in c:\\users\\hajko\\appdata\\local\\packages\\pythonsoftwarefoundation.python.3.10_qbz5n2kfra8p0\\localcache\\local-packages\\python310\\site-packages (from matplotlib!=3.6.1,>=3.4->seaborn) (1.3.0)\n",
      "Requirement already satisfied: python-dateutil>=2.7 in c:\\users\\hajko\\appdata\\local\\packages\\pythonsoftwarefoundation.python.3.10_qbz5n2kfra8p0\\localcache\\local-packages\\python310\\site-packages (from matplotlib!=3.6.1,>=3.4->seaborn) (2.9.0.post0)\n",
      "Requirement already satisfied: fonttools>=4.22.0 in c:\\users\\hajko\\appdata\\local\\packages\\pythonsoftwarefoundation.python.3.10_qbz5n2kfra8p0\\localcache\\local-packages\\python310\\site-packages (from matplotlib!=3.6.1,>=3.4->seaborn) (4.54.1)\n",
      "Requirement already satisfied: pillow>=8 in c:\\users\\hajko\\appdata\\local\\packages\\pythonsoftwarefoundation.python.3.10_qbz5n2kfra8p0\\localcache\\local-packages\\python310\\site-packages (from matplotlib!=3.6.1,>=3.4->seaborn) (11.0.0)\n",
      "Requirement already satisfied: pytz>=2020.1 in c:\\users\\hajko\\appdata\\local\\packages\\pythonsoftwarefoundation.python.3.10_qbz5n2kfra8p0\\localcache\\local-packages\\python310\\site-packages (from pandas>=1.2->seaborn) (2024.2)\n",
      "Requirement already satisfied: tzdata>=2022.7 in c:\\users\\hajko\\appdata\\local\\packages\\pythonsoftwarefoundation.python.3.10_qbz5n2kfra8p0\\localcache\\local-packages\\python310\\site-packages (from pandas>=1.2->seaborn) (2024.2)\n",
      "Requirement already satisfied: six>=1.5 in c:\\users\\hajko\\appdata\\local\\packages\\pythonsoftwarefoundation.python.3.10_qbz5n2kfra8p0\\localcache\\local-packages\\python310\\site-packages (from python-dateutil>=2.7->matplotlib!=3.6.1,>=3.4->seaborn) (1.16.0)\n"
     ]
    },
    {
     "name": "stderr",
     "output_type": "stream",
     "text": [
      "\n",
      "[notice] A new release of pip is available: 23.0.1 -> 24.3.1\n",
      "[notice] To update, run: C:\\Users\\hajko\\AppData\\Local\\Microsoft\\WindowsApps\\PythonSoftwareFoundation.Python.3.10_qbz5n2kfra8p0\\python.exe -m pip install --upgrade pip\n"
     ]
    }
   ],
   "source": [
    "!pip install matplotlib\n",
    "!pip install seaborn\n",
    "# Import necessary libraries\n",
    "import pandas as pd\n",
    "import numpy as np\n",
    "import matplotlib.pyplot as plt\n",
    "import seaborn as sns\n",
    "# from sklearn import datasets\n"
   ]
  },
  {
   "cell_type": "markdown",
   "metadata": {},
   "source": [
    "Data loading"
   ]
  },
  {
   "cell_type": "code",
   "execution_count": 2,
   "metadata": {
    "tags": []
   },
   "outputs": [],
   "source": [
    "# Load the dataset from scikit-learn\n",
    "# diabetes = datasets.load_diabetes()\n",
    "data = pd.read_csv(\"Assignment_dataset.csv\")\n"
   ]
  },
  {
   "cell_type": "code",
   "execution_count": 3,
   "metadata": {
    "tags": []
   },
   "outputs": [
    {
     "data": {
      "text/html": [
       "<div>\n",
       "<style scoped>\n",
       "    .dataframe tbody tr th:only-of-type {\n",
       "        vertical-align: middle;\n",
       "    }\n",
       "\n",
       "    .dataframe tbody tr th {\n",
       "        vertical-align: top;\n",
       "    }\n",
       "\n",
       "    .dataframe thead th {\n",
       "        text-align: right;\n",
       "    }\n",
       "</style>\n",
       "<table border=\"1\" class=\"dataframe\">\n",
       "  <thead>\n",
       "    <tr style=\"text-align: right;\">\n",
       "      <th></th>\n",
       "      <th>ADMISSION</th>\n",
       "      <th>NATURAL_SCIENCE_SCORE</th>\n",
       "      <th>ENGLISH_SCORE</th>\n",
       "      <th>READING_SCORE</th>\n",
       "      <th>MATH_SCORE</th>\n",
       "      <th>SOCIAL_SCIENCE_SCORE</th>\n",
       "      <th>SCHOOL_CALENDAR</th>\n",
       "      <th>PUBLIC_SCHOOL</th>\n",
       "      <th>BILINGUAL_SCHOOL</th>\n",
       "      <th>GENDER</th>\n",
       "      <th>AGE</th>\n",
       "      <th>PARENTS_EDUCATION</th>\n",
       "      <th>FAMILY_INCOME_LEVEL</th>\n",
       "      <th>PEOPLE_AT_HOME</th>\n",
       "      <th>FAMILY_HAS_CAR</th>\n",
       "      <th>HAS_INTERNET_ACCESS</th>\n",
       "    </tr>\n",
       "  </thead>\n",
       "  <tbody>\n",
       "    <tr>\n",
       "      <th>0</th>\n",
       "      <td>False</td>\n",
       "      <td>49</td>\n",
       "      <td>48</td>\n",
       "      <td>57</td>\n",
       "      <td>25</td>\n",
       "      <td>48</td>\n",
       "      <td>A</td>\n",
       "      <td>True</td>\n",
       "      <td>False</td>\n",
       "      <td>F</td>\n",
       "      <td>16.0</td>\n",
       "      <td>Vocational</td>\n",
       "      <td>3</td>\n",
       "      <td>3 or 4</td>\n",
       "      <td>False</td>\n",
       "      <td>True</td>\n",
       "    </tr>\n",
       "    <tr>\n",
       "      <th>1</th>\n",
       "      <td>False</td>\n",
       "      <td>60</td>\n",
       "      <td>55</td>\n",
       "      <td>68</td>\n",
       "      <td>60</td>\n",
       "      <td>68</td>\n",
       "      <td>A</td>\n",
       "      <td>True</td>\n",
       "      <td>False</td>\n",
       "      <td>M</td>\n",
       "      <td>17.0</td>\n",
       "      <td>Primary</td>\n",
       "      <td>1</td>\n",
       "      <td>7+</td>\n",
       "      <td>False</td>\n",
       "      <td>True</td>\n",
       "    </tr>\n",
       "    <tr>\n",
       "      <th>2</th>\n",
       "      <td>True</td>\n",
       "      <td>76</td>\n",
       "      <td>79</td>\n",
       "      <td>68</td>\n",
       "      <td>100</td>\n",
       "      <td>72</td>\n",
       "      <td>A</td>\n",
       "      <td>False</td>\n",
       "      <td>False</td>\n",
       "      <td>M</td>\n",
       "      <td>17.0</td>\n",
       "      <td>University</td>\n",
       "      <td>3</td>\n",
       "      <td>3 or 4</td>\n",
       "      <td>False</td>\n",
       "      <td>True</td>\n",
       "    </tr>\n",
       "    <tr>\n",
       "      <th>3</th>\n",
       "      <td>True</td>\n",
       "      <td>73</td>\n",
       "      <td>79</td>\n",
       "      <td>66</td>\n",
       "      <td>83</td>\n",
       "      <td>72</td>\n",
       "      <td>A</td>\n",
       "      <td>False</td>\n",
       "      <td>False</td>\n",
       "      <td>M</td>\n",
       "      <td>17.0</td>\n",
       "      <td>University</td>\n",
       "      <td>3</td>\n",
       "      <td>3 or 4</td>\n",
       "      <td>False</td>\n",
       "      <td>True</td>\n",
       "    </tr>\n",
       "    <tr>\n",
       "      <th>4</th>\n",
       "      <td>False</td>\n",
       "      <td>52</td>\n",
       "      <td>56</td>\n",
       "      <td>56</td>\n",
       "      <td>28</td>\n",
       "      <td>53</td>\n",
       "      <td>A</td>\n",
       "      <td>True</td>\n",
       "      <td>False</td>\n",
       "      <td>F</td>\n",
       "      <td>15.0</td>\n",
       "      <td>Primary</td>\n",
       "      <td>1</td>\n",
       "      <td>3 or 4</td>\n",
       "      <td>False</td>\n",
       "      <td>False</td>\n",
       "    </tr>\n",
       "    <tr>\n",
       "      <th>...</th>\n",
       "      <td>...</td>\n",
       "      <td>...</td>\n",
       "      <td>...</td>\n",
       "      <td>...</td>\n",
       "      <td>...</td>\n",
       "      <td>...</td>\n",
       "      <td>...</td>\n",
       "      <td>...</td>\n",
       "      <td>...</td>\n",
       "      <td>...</td>\n",
       "      <td>...</td>\n",
       "      <td>...</td>\n",
       "      <td>...</td>\n",
       "      <td>...</td>\n",
       "      <td>...</td>\n",
       "      <td>...</td>\n",
       "    </tr>\n",
       "    <tr>\n",
       "      <th>136873</th>\n",
       "      <td>False</td>\n",
       "      <td>54</td>\n",
       "      <td>47</td>\n",
       "      <td>48</td>\n",
       "      <td>62</td>\n",
       "      <td>43</td>\n",
       "      <td>A</td>\n",
       "      <td>True</td>\n",
       "      <td>False</td>\n",
       "      <td>M</td>\n",
       "      <td>17.0</td>\n",
       "      <td>Vocational</td>\n",
       "      <td>3</td>\n",
       "      <td>3 or 4</td>\n",
       "      <td>False</td>\n",
       "      <td>True</td>\n",
       "    </tr>\n",
       "    <tr>\n",
       "      <th>136874</th>\n",
       "      <td>False</td>\n",
       "      <td>44</td>\n",
       "      <td>35</td>\n",
       "      <td>46</td>\n",
       "      <td>39</td>\n",
       "      <td>31</td>\n",
       "      <td>A</td>\n",
       "      <td>True</td>\n",
       "      <td>False</td>\n",
       "      <td>F</td>\n",
       "      <td>18.0</td>\n",
       "      <td>Secondary</td>\n",
       "      <td>2</td>\n",
       "      <td>3 or 4</td>\n",
       "      <td>False</td>\n",
       "      <td>True</td>\n",
       "    </tr>\n",
       "    <tr>\n",
       "      <th>136875</th>\n",
       "      <td>False</td>\n",
       "      <td>43</td>\n",
       "      <td>43</td>\n",
       "      <td>43</td>\n",
       "      <td>12</td>\n",
       "      <td>46</td>\n",
       "      <td>A</td>\n",
       "      <td>True</td>\n",
       "      <td>False</td>\n",
       "      <td>M</td>\n",
       "      <td>16.0</td>\n",
       "      <td>Secondary</td>\n",
       "      <td>1</td>\n",
       "      <td>3 or 4</td>\n",
       "      <td>False</td>\n",
       "      <td>True</td>\n",
       "    </tr>\n",
       "    <tr>\n",
       "      <th>136876</th>\n",
       "      <td>False</td>\n",
       "      <td>60</td>\n",
       "      <td>49</td>\n",
       "      <td>71</td>\n",
       "      <td>60</td>\n",
       "      <td>66</td>\n",
       "      <td>A</td>\n",
       "      <td>False</td>\n",
       "      <td>False</td>\n",
       "      <td>M</td>\n",
       "      <td>16.0</td>\n",
       "      <td>Secondary</td>\n",
       "      <td>2</td>\n",
       "      <td>3 or 4</td>\n",
       "      <td>False</td>\n",
       "      <td>True</td>\n",
       "    </tr>\n",
       "    <tr>\n",
       "      <th>136877</th>\n",
       "      <td>False</td>\n",
       "      <td>51</td>\n",
       "      <td>45</td>\n",
       "      <td>54</td>\n",
       "      <td>39</td>\n",
       "      <td>57</td>\n",
       "      <td>A</td>\n",
       "      <td>True</td>\n",
       "      <td>False</td>\n",
       "      <td>F</td>\n",
       "      <td>17.0</td>\n",
       "      <td>Primary</td>\n",
       "      <td>1</td>\n",
       "      <td>3 or 4</td>\n",
       "      <td>False</td>\n",
       "      <td>True</td>\n",
       "    </tr>\n",
       "  </tbody>\n",
       "</table>\n",
       "<p>136878 rows × 16 columns</p>\n",
       "</div>"
      ],
      "text/plain": [
       "        ADMISSION  NATURAL_SCIENCE_SCORE  ENGLISH_SCORE  READING_SCORE  \\\n",
       "0           False                     49             48             57   \n",
       "1           False                     60             55             68   \n",
       "2            True                     76             79             68   \n",
       "3            True                     73             79             66   \n",
       "4           False                     52             56             56   \n",
       "...           ...                    ...            ...            ...   \n",
       "136873      False                     54             47             48   \n",
       "136874      False                     44             35             46   \n",
       "136875      False                     43             43             43   \n",
       "136876      False                     60             49             71   \n",
       "136877      False                     51             45             54   \n",
       "\n",
       "        MATH_SCORE  SOCIAL_SCIENCE_SCORE SCHOOL_CALENDAR  PUBLIC_SCHOOL  \\\n",
       "0               25                    48               A           True   \n",
       "1               60                    68               A           True   \n",
       "2              100                    72               A          False   \n",
       "3               83                    72               A          False   \n",
       "4               28                    53               A           True   \n",
       "...            ...                   ...             ...            ...   \n",
       "136873          62                    43               A           True   \n",
       "136874          39                    31               A           True   \n",
       "136875          12                    46               A           True   \n",
       "136876          60                    66               A          False   \n",
       "136877          39                    57               A           True   \n",
       "\n",
       "        BILINGUAL_SCHOOL GENDER   AGE PARENTS_EDUCATION FAMILY_INCOME_LEVEL  \\\n",
       "0                  False      F  16.0        Vocational                   3   \n",
       "1                  False      M  17.0           Primary                   1   \n",
       "2                  False      M  17.0        University                   3   \n",
       "3                  False      M  17.0        University                   3   \n",
       "4                  False      F  15.0           Primary                   1   \n",
       "...                  ...    ...   ...               ...                 ...   \n",
       "136873             False      M  17.0        Vocational                   3   \n",
       "136874             False      F  18.0         Secondary                   2   \n",
       "136875             False      M  16.0         Secondary                   1   \n",
       "136876             False      M  16.0         Secondary                   2   \n",
       "136877             False      F  17.0           Primary                   1   \n",
       "\n",
       "       PEOPLE_AT_HOME  FAMILY_HAS_CAR  HAS_INTERNET_ACCESS  \n",
       "0              3 or 4           False                 True  \n",
       "1                  7+           False                 True  \n",
       "2              3 or 4           False                 True  \n",
       "3              3 or 4           False                 True  \n",
       "4              3 or 4           False                False  \n",
       "...               ...             ...                  ...  \n",
       "136873         3 or 4           False                 True  \n",
       "136874         3 or 4           False                 True  \n",
       "136875         3 or 4           False                 True  \n",
       "136876         3 or 4           False                 True  \n",
       "136877         3 or 4           False                 True  \n",
       "\n",
       "[136878 rows x 16 columns]"
      ]
     },
     "execution_count": 3,
     "metadata": {},
     "output_type": "execute_result"
    }
   ],
   "source": [
    "data"
   ]
  },
  {
   "cell_type": "markdown",
   "metadata": {},
   "source": [
    "Changed \"admissions\" to a binary variable"
   ]
  },
  {
   "cell_type": "code",
   "execution_count": 4,
   "metadata": {},
   "outputs": [
    {
     "name": "stderr",
     "output_type": "stream",
     "text": [
      "C:\\Users\\hajko\\AppData\\Local\\Temp\\ipykernel_18020\\2422275254.py:1: FutureWarning: Setting an item of incompatible dtype is deprecated and will raise an error in a future version of pandas. Value '0' has dtype incompatible with bool, please explicitly cast to a compatible dtype first.\n",
      "  data.loc[data.ADMISSION == False, \"ADMISSION\"] = 0\n"
     ]
    },
    {
     "data": {
      "text/plain": [
       "0         0\n",
       "1         0\n",
       "2         1\n",
       "3         1\n",
       "4         0\n",
       "         ..\n",
       "136873    0\n",
       "136874    0\n",
       "136875    0\n",
       "136876    0\n",
       "136877    0\n",
       "Name: ADMISSION, Length: 136878, dtype: int64"
      ]
     },
     "execution_count": 4,
     "metadata": {},
     "output_type": "execute_result"
    }
   ],
   "source": [
    "data.loc[data.ADMISSION == False, \"ADMISSION\"] = 0\n",
    "data.loc[data.ADMISSION == True, \"ADMISSION\"] = 1\n",
    "data.ADMISSION = pd.to_numeric(data.ADMISSION)\n",
    "data[\"ADMISSION\"]"
   ]
  },
  {
   "cell_type": "markdown",
   "metadata": {},
   "source": [
    "Data Exploration"
   ]
  },
  {
   "cell_type": "code",
   "execution_count": 5,
   "metadata": {
    "tags": []
   },
   "outputs": [
    {
     "name": "stdout",
     "output_type": "stream",
     "text": [
      "   ADMISSION  NATURAL_SCIENCE_SCORE  ENGLISH_SCORE  READING_SCORE  MATH_SCORE  \\\n",
      "0          0                     49             48             57          25   \n",
      "1          0                     60             55             68          60   \n",
      "2          1                     76             79             68         100   \n",
      "3          1                     73             79             66          83   \n",
      "4          0                     52             56             56          28   \n",
      "\n",
      "   SOCIAL_SCIENCE_SCORE SCHOOL_CALENDAR  PUBLIC_SCHOOL  BILINGUAL_SCHOOL  \\\n",
      "0                    48               A           True             False   \n",
      "1                    68               A           True             False   \n",
      "2                    72               A          False             False   \n",
      "3                    72               A          False             False   \n",
      "4                    53               A           True             False   \n",
      "\n",
      "  GENDER   AGE PARENTS_EDUCATION FAMILY_INCOME_LEVEL PEOPLE_AT_HOME  \\\n",
      "0      F  16.0        Vocational                   3         3 or 4   \n",
      "1      M  17.0           Primary                   1             7+   \n",
      "2      M  17.0        University                   3         3 or 4   \n",
      "3      M  17.0        University                   3         3 or 4   \n",
      "4      F  15.0           Primary                   1         3 or 4   \n",
      "\n",
      "   FAMILY_HAS_CAR  HAS_INTERNET_ACCESS  \n",
      "0           False                 True  \n",
      "1           False                 True  \n",
      "2           False                 True  \n",
      "3           False                 True  \n",
      "4           False                False  \n",
      "\n",
      "Shape of the dataset: (136878, 16)\n",
      "\n",
      "Data types of each column:\n",
      "ADMISSION                  int64\n",
      "NATURAL_SCIENCE_SCORE      int64\n",
      "ENGLISH_SCORE              int64\n",
      "READING_SCORE              int64\n",
      "MATH_SCORE                 int64\n",
      "SOCIAL_SCIENCE_SCORE       int64\n",
      "SCHOOL_CALENDAR           object\n",
      "PUBLIC_SCHOOL               bool\n",
      "BILINGUAL_SCHOOL            bool\n",
      "GENDER                    object\n",
      "AGE                      float64\n",
      "PARENTS_EDUCATION         object\n",
      "FAMILY_INCOME_LEVEL       object\n",
      "PEOPLE_AT_HOME            object\n",
      "FAMILY_HAS_CAR              bool\n",
      "HAS_INTERNET_ACCESS         bool\n",
      "dtype: object\n",
      "\n",
      "Missing values in each column:\n",
      "ADMISSION                  0\n",
      "NATURAL_SCIENCE_SCORE      0\n",
      "ENGLISH_SCORE              0\n",
      "READING_SCORE              0\n",
      "MATH_SCORE                 0\n",
      "SOCIAL_SCIENCE_SCORE       0\n",
      "SCHOOL_CALENDAR            0\n",
      "PUBLIC_SCHOOL              0\n",
      "BILINGUAL_SCHOOL           0\n",
      "GENDER                     0\n",
      "AGE                        0\n",
      "PARENTS_EDUCATION        831\n",
      "FAMILY_INCOME_LEVEL        0\n",
      "PEOPLE_AT_HOME             0\n",
      "FAMILY_HAS_CAR             0\n",
      "HAS_INTERNET_ACCESS        0\n",
      "dtype: int64\n"
     ]
    }
   ],
   "source": [
    "# 1. Initial Data Exploration:\n",
    "print(data.head())\n",
    "print(\"\\nShape of the dataset:\", data.shape)\n",
    "print(\"\\nData types of each column:\")\n",
    "print(data.dtypes)\n",
    "print(\"\\nMissing values in each column:\")\n",
    "print(data.isnull().sum())\n"
   ]
  },
  {
   "cell_type": "code",
   "execution_count": 6,
   "metadata": {
    "tags": []
   },
   "outputs": [
    {
     "name": "stdout",
     "output_type": "stream",
     "text": [
      "\n",
      "Summary statistics for numerical columns:\n",
      "           ADMISSION  NATURAL_SCIENCE_SCORE  ENGLISH_SCORE  READING_SCORE  \\\n",
      "count  136878.000000          136878.000000  136878.000000  136878.000000   \n",
      "mean        0.415881              57.231199      59.650828      58.252436   \n",
      "std         0.492875              10.216689      13.367733       9.202312   \n",
      "min         0.000000              20.000000       0.000000       2.000000   \n",
      "25%         0.000000              50.000000      50.000000      52.000000   \n",
      "50%         0.000000              57.000000      58.000000      58.000000   \n",
      "75%         1.000000              64.000000      68.000000      65.000000   \n",
      "max         1.000000             100.000000     100.000000     100.000000   \n",
      "\n",
      "          MATH_SCORE  SOCIAL_SCIENCE_SCORE            AGE  \n",
      "count  136878.000000         136878.000000  136878.000000  \n",
      "mean       54.504500             58.033292      16.862082  \n",
      "std        20.038892             10.270291       0.863900  \n",
      "min         0.000000             14.000000      15.000000  \n",
      "25%        40.000000             51.000000      16.000000  \n",
      "50%        53.000000             58.000000      17.000000  \n",
      "75%        68.000000             65.000000      17.000000  \n",
      "max       100.000000            100.000000      20.000000  \n"
     ]
    }
   ],
   "source": [
    "# 2. Summary Statistics:\n",
    "print(\"\\nSummary statistics for numerical columns:\")\n",
    "print(data.describe())\n"
   ]
  },
  {
   "cell_type": "code",
   "execution_count": 9,
   "metadata": {
    "tags": []
   },
   "outputs": [
    {
     "data": {
      "image/png": "iVBORw0KGgoAAAANSUhEUgAAAk0AAAHHCAYAAACiOWx7AAAAOXRFWHRTb2Z0d2FyZQBNYXRwbG90bGliIHZlcnNpb24zLjkuMiwgaHR0cHM6Ly9tYXRwbG90bGliLm9yZy8hTgPZAAAACXBIWXMAAA9hAAAPYQGoP6dpAABlB0lEQVR4nO3deVyU5fo/8M+wzADigBsgiYjihooLJlJqmsioHFOzcg/Xjh4wEXNLU9Q8mrslxumoYKm5pZYrEG6ZuKFobriEmcnicUNBYYT794dfnp/jsDzgjMzQ5/16zavmfq65n+t6ZsCLZxuFEEKAiIiIiIplUd4JEBEREZkDNk1EREREMrBpIiIiIpKBTRMRERGRDGyaiIiIiGRg00REREQkA5smIiIiIhnYNBERERHJwKaJiIiISAY2TVQh1KlTB0OGDCnvNCq8BQsWoG7durC0tESLFi3KOx0ioleKTROZnOjoaCgUCpw8ebLQ5R07dkTTpk1fej27d+9GeHj4S8/zdxEbG4uJEyfizTffRFRUFP79738XGTtkyBAoFAp4e3ujsG9qUigUCAkJKfS1Fy9ehEKhgI2NDe7fv683Z0mPgua5Tp06+Mc//lHoOk6ePAmFQoHo6GhpLDw8XGcea2tr1KlTBx9//LFOHi+aOHEiFAoF+vbtW+jy69evQ6FQYOHChUXOIdfhw4fRrVs3vPbaa7CxsUHt2rXRo0cPrF+/Xi/2yZMnWLJkCXx9feHg4AAbGxs0aNAAISEhuHz5sl7d//vf/6Sx4ra1jY2NFHfgwAFpPDExUS+HIUOGwN7evtBatm3bhm7duqF69epQKpVwdXXFBx98gH379hU6f2GPDRs2lPv2K/Drr7+id+/ecHZ2hkqlQp06dfDPf/4TN27c0Ist7WetTp06RW6Drl27lmob0MuxKu8EiAwhOTkZFhal+xtg9+7diIiIYOMk0759+2BhYYFVq1ZBqVTKes1vv/2GrVu3ok+fPrLXs3btWri4uODevXvYsmULRowYAQD45z//CX9/fykuJSUF06dPx0cffYT27dtL4/Xq1ZO9rsJ8/fXXsLe3R1ZWFuLj4/HVV1/h1KlTOHz4sF6sEALff/896tSpgx07duDhw4eoXLnyS62/KJs3b0bfvn3RokULjB07FlWqVEFKSgoOHTqE//73vxgwYIAU+7///Q9du3ZFYmIi/vGPf2DAgAGwt7dHcnIyNmzYgG+++Qa5ubnFrk+lUmHlypV645aWloXGh4eHY8eOHSXWIYTAsGHDEB0djZYtWyIsLAwuLi5ITU3Ftm3b0LlzZ/z666944403pNd8/PHHeP311/Xm8vPzK3F9BYy5/b766iuMHTsWdevWxZgxY1CzZk1cvHgRK1euxMaNG7F7926degqU5rPWokULjB8/Xm/c1dVV9jYgAxBEJiYqKkoAECdOnCh0+VtvvSWaNGny0usJDg4W5fkj8OjRo3Jbd1kMHTpUVKpUSVZsUFCQsLW1FQ0aNBDe3t4iPz9fZzkAERwcrPe6/Px8UadOHREWFiZ69+4tOnbsWOQ6Tpw4IQCIqKioQpe7u7uLwMBA2a+dMWOGACBu376tE9u3b18BQBw7dkxvnn379gkAYt++fcLa2lpER0frxaSkpAgAYsGCBUXWIoeXl5do0qSJyMnJ0VuWnp6u8zwwMFBYWFiILVu26MU+efJEjB8/XnpeWN1BQUGy3uv9+/cLAKJFixYCgEhMTNRZXtg8CxYsEABEaGio3udCCCG+/fZbaVsXzL958+YScymJsbbf4cOHhYWFhWjfvr3IysrSib169apwdnYWNWvWFHfv3pXGS/tZK+6zTK8WD89RhfDiOU1arRYzZ85E/fr1YWNjg2rVqqFdu3aIi4sD8OywQUREBADo7OoukJWVhfHjx8PNzQ0qlQoNGzbEwoUL9Q41PX78GB9//DGqV6+OypUr45133sFff/0FhUKhswerYHf8hQsXMGDAAFSpUgXt2rUDAJw9exZDhgxB3bp1YWNjAxcXFwwbNgx37tzRWVfBHJcvX8agQYPg4OCAGjVq4LPPPoMQAn/++Sd69uwJtVoNFxcXLFq0SNa2e/r0KWbPno169epJhxU+/fRT5OTkSDEKhQJRUVHIysqSttXzh7YKY2FhgWnTpuHs2bPYtm2brFx+/fVXXL9+Hf369UO/fv1w6NAh3Lx5U9ZrjaVgL9a1a9f0lq1btw5eXl7o1KkT/P39sW7dOqPlce3aNbz++uuF7uVzcnKS/v/YsWPYtWsXhg8fXugePpVKZZBDhc8bM2YMqlSpUuJe28ePH2Pu3Llo1KgRFi5cqPMzV2Dw4MFo06aNQfMDjLf9Zs+eDYVCgTVr1sDOzk4ntl69epg/fz5SU1Pxn//8p8Qci/uskWlg00Qm68GDB/jf//6n99BqtSW+Njw8HDNnzkSnTp2wfPlyTJ06FbVr18apU6cAPDvU06VLFwDAd999Jz2AZ4cP3nnnHSxZsgRdu3bF4sWL0bBhQ0yYMAFhYWE66xkyZAi++uordO/eHV988QVsbW0RGBhYZF7vv/8+srOz8e9//xsjR44EAMTFxeH333/H0KFD8dVXX6Ffv37YsGEDunfvXuj5QH379kV+fj7mzZsHX19ffP7551i6dCm6dOmC1157DV988QU8PT3xySef4NChQyVuqxEjRmD69Olo1aoVlixZgrfeegtz585Fv379pJjvvvsO7du3h0qlkrZVhw4dSpx7wIABqF+/PmbNmlVoLS9at24d6tWrh9dffx09evSAnZ0dvv/++xJfZ0zXr18HAFSpUkVnPCcnBz/88AP69+8PAOjfvz/27duHtLQ0o+Th7u6O+Pj4EpvIn376CcCz5uNlFfbzl5mZqRenVqsxbtw47NixQ/oZK8zhw4dx9+5dDBgwoMjDfIV5+PBhobnI+UwVMMb2y87ORnx8PNq3bw8PD49CY/r27QuVSoWdO3eWOF9RnzXg2R+ChW2Dx48flzgvGVB57uYiKkzB4bniHi8ennN3dxdBQUHS8+bNm5e4O7uow3Pbt28XAMTnn3+uM/7ee+8JhUIhrl69KoQQIjExUTrM8LwhQ4YIAGLGjBnSWMHu+P79++utLzs7W2/s+++/FwDEoUOH9Ob46KOPpLGnT5+KWrVqCYVCIebNmyeN37t3T9ja2upsk8IkJSUJAGLEiBE645988ol02KmA3EM2L8auWbNGABBbt26VlqOQw3O5ubmiWrVqYurUqdLYgAEDRPPmzQtdh7EOzyUnJ4vbt2+L69evi9WrVwtbW1tRo0YNvUMvW7ZsEQDElStXhBBCZGZmChsbG7FkyRKdOEMdnlu1apUAIJRKpejUqZP47LPPxC+//CLy8vJ04nr37i0AiHv37smat6jDc0X97Gk0Ginu+cNn9+/fF1WqVBHvvPOOzjzPf2aWLVsmAIht27bJyq1g/qIeqampsuYRwjjbr+DnZ+zYscXGeXt7i6pVq0rPS/tZc3d3L3IbzJ07V/Y2oJfHE8HJZEVERKBBgwZ64+PHj0deXl6xr3V0dMT58+dx5coV1K9fv1Tr3b17NywtLfHxxx/rrXfLli3Ys2cPQkJCsHfvXgDAv/71L524MWPGFHnoatSoUXpjtra20v8/efIEjx49Qtu2bQEAp06d0jnJGYB0YjTw7KTc1q1b4+bNmxg+fLg07ujoiIYNG+L3338vsVYAenvQxo8fj4ULF2LXrl3o1KlTsXOUZODAgfj8888xa9Ys9OrVq9BDMgCwZ88e3LlzR9pzAzzbe9OjRw+cP38eTZo0eak85GrYsKHO82bNmiEqKkrv0Mu6devQunVreHp6AgAqV66MwMBArFu3DqGhoQbPa9iwYXjttdewePFi7N+/H/v378fs2bNRt25dfPfdd9KJxgV7gl72hHQbG5tCT+yuXr16ofEODg4IDQ3FjBkzcPr0abRs2VIvpqy5TZ8+Xe/nAACqVq0qew5jbL+HDx/Kiq1cuXKhe+jkftYASHuVX1Ta32/0ctg0kclq06YNWrdurTdepUoVncujCzNr1iz07NkTDRo0QNOmTdG1a1cMHjwY3t7eJa73jz/+gKurq94vwsaNG0vLC/5rYWGht1u+4B/RwhS2C//u3buYOXMmNmzYgIyMDJ1lDx480IuvXbu2zvOCy6Ff/MfMwcFB77yoFxXU8GLOLi4ucHR0lGp9GZaWlpg2bRqCgoKwfft29O7du9C4tWvXwsPDAyqVClevXgXw7JwQOzs7rFu3rthbHJRVYQ3cDz/8ALVajdu3b+PLL79ESkqKTmMLAPfv38fu3bsREhIi5QoAb775Jn744Qdcvny50Ib/ZWk0Gmg0GmRnZyMxMREbN25EZGQk/vGPf+DSpUtwcnKCWq0G8OwfdEdHxzKvy9LSUudqRTnGjh2LJUuWIDw8HD/++KPe8udzK41mzZqVOpfCGHr7FfyOKKmeoq6qlPNZK1C9enWDbAN6OTyniSqkDh064Nq1a1i9ejWaNm2KlStXolWrVoVeQv0qFfYL8YMPPsB///tfjBo1Clu3bkVsbKy0Fys/P18vvrBzQYo6P0TIPOejqL0/hjJw4EB4enoWeW5TZmYmduzYgZSUFNSvX196eHl5ITs7G+vXry/V+SvAsz0lRZ3vkZ2dLcW8qEOHDvD390f//v0RFxcHW1tbDBw4UOe92Lx5M3JycrBo0SKdfAv22BnzhHAAsLOzQ/v27bF8+XJMmzYN9+7dw549ewAAjRo1AvDsdg+vWsHepp9++gmnT5/WW16euT3PUNvP09MTVlZWOHv2bJExOTk5SE5OhpeXl94yOZ81Mi1smqjCqlq1KoYOHYrvv/8ef/75J7y9vXWu7imqUXB3d8etW7f0/nq8dOmStLzgv/n5+UhJSdGJe37PQ0nu3buH+Ph4TJ48GTNnzkTv3r3RpUsX1K1bV/YcL6OghitXruiMp6en4/79+1KtL6tgb1NSUlKheyC2bt2KJ0+e4Ouvv8bmzZt1Hp9//jn++OMP/Prrr6Vap7u7e6E3IQSe3derIKY49vb2mDFjBpKSkrBp0yZpfN26dWjatKlerps3b4a/v3+hN0s0loK9sampqQCAHj16AHi25648hIaGwtHRETNnztRb1q5dO1SpUgXff/99iYfYX5WX2X6VKlVCp06dcOjQoSL3ym7atAk5OTlF3mi1QFGfNTItbJqoQnrxsJS9vT08PT11LqOvVKkSAOjdgbd79+7Iy8vD8uXLdcaXLFkChUKBbt26AXi2qx8AVqxYoRP31Vdfyc6zYA/Ri3tRli5dKnuOl9G9e/dC17d48WIAKPZKwNIaNGgQPD09C/3HdO3atahbty5GjRqF9957T+fxySefwN7evtR7b7p3746bN29i+/btOuM5OTlYuXIlnJyc0KpVqxLnGThwIGrVqoUvvvgCAPDnn3/i0KFD+OCDD/Ryfe+99zB06FBcvXoVx44dK1W+JYmPjy90vOC8tILzY/z8/NC1a1esXLlSr3YAyM3NxSeffGLQ3J5XsLfpxx9/RFJSks4yOzs7TJo0CRcvXsSkSZMK3Xu4du1aHD9+3OB5GWv7TZs2DUIIDBkyRG/PZkpKCiZOnIiaNWvin//8Z4k5vvhZI9PDc5qoQvLy8kLHjh3h4+ODqlWr4uTJk9iyZYvOV3f4+PgAeHa3YY1GA0tLS/Tr1w89evRAp06dMHXqVFy/fh3NmzdHbGwsfvzxR4SGhkp3nPbx8UGfPn2wdOlS3LlzB23btsXBgwelvRtyDnmp1Wp06NAB8+fPh1arxWuvvYbY2Fi9vVfG0rx5cwQFBeGbb77B/fv38dZbb+H48eNYs2YNevXq9dIngT/P0tISU6dOxdChQ3XGb926hf379+udeF9ApVJBo9Fg8+bN+PLLL2FtbS1rfR999BFWr16N999/H8OGDUPLli1x584dbNy4EefOncO3334r687m1tbWGDt2LCZMmIC9e/fizJkz0m0pCtO9e3dYWVlh3bp18PX1lcbj4+Px5MkTvfhevXrJ+lqgnj17wsPDAz169EC9evWQlZWFn3/+GTt27JBu0VDg22+/RUBAAN5991306NEDnTt3RqVKlXDlyhVs2LABqampJd6r6enTp0Xubendu7f0R0dhCs5tOnPmjF7chAkTcP78eSxatAj79+/He++9BxcXF6SlpWH79u04fvw4jhw5ovOaX375pdBt5+3tLes8RcB4269Dhw5YuHAhwsLC4O3tjSFDhqBmzZq4dOkS/vvf/yI/Px+7d+8u9DYCL3rxs/b8V6T89ddfhb4f9vb26NWrl6xtQAZQjlfuERWqLHcEf/GWA59//rlo06aNcHR0FLa2tqJRo0Zizpw5Ijc3V4p5+vSpGDNmjKhRo4ZQKBQ6tx94+PChGDdunHB1dRXW1taifv36YsGCBXp3MM7KyhLBwcGiatWqwt7eXvTq1UskJycLADq3ACjqDsBCCHHz5k3Ru3dv4ejoKBwcHMT7778vbt26VeRtC16co6hbAci9c7pWqxUzZ84UHh4ewtraWri5uYkpU6aIJ0+eyFpPYYqK1Wq1ol69ejq3HFi0aJEAIOLj44ucLzo6WgAQP/74ozRW0i0HhHh264Vx48ZJtanVatGpUyexZ88evdji3qMHDx4IBwcH8dZbb4lmzZqJ2rVrF1e+6Nixo3BychJarVa65UBRj++++67YuQp8//33ol+/fqJevXrC1tZW2NjYCC8vLzF16lSRmZmpF5+dnS0WLlwoXn/9dWFvby+USqWoX7++GDNmjHTbjKLqLu6WAwBESkqKEKL4O3YXzFvUZ2bLli0iICBAVK1aVVhZWYmaNWuKvn37igMHDkgxJd1y4Pmfj/LafgUOHTokevbsKapXry6sra1F7dq1xciRI8X169eL3DYlfdYKFHfLAXd3d9nbgF6eQohSnl1JRMVKSkpCy5YtsXbtWgwcOLC80yEiIgPhOU1EL6Gwq7OWLl0KCwsLWXfMJiIi88Fzmohewvz585GYmIhOnTrBysoKe/bswZ49e/DRRx/Bzc2tvNMjM/DgwYMSvwrDxcXlFWVjfrj96FXi4TmilxAXF4eZM2fiwoULePToEWrXro3Bgwdj6tSpsLLi3yRUsiFDhmDNmjXFxvDXdNG4/ehVYtNERFSOLly4gFu3bhUbwztBF43bj14lNk1EREREMvBEcCIiIiIZeNKFgeTn5+PWrVuoXLmy0b/Hi4iIiAxDCIGHDx/C1dUVFhbF70ti02Qgt27d4tVSREREZurPP/9ErVq1io1h02QglStXBvBso6vVaoPOrdVqERsbi4CAANlfIWFOWJ/5q+g1VvT6gIpfI+szf8aqMTMzE25ubtK/48Vh02QgBYfk1Gq1UZomOzs7qNXqCvnDwPrMX0WvsaLXB1T8Glmf+TN2jXJOreGJ4EREREQysGkiIiIikoFNExEREZEMbJqIiIiIZGDTRERERCQDmyYiIiIiGdg0EREREcnApomIiIhIBjZNRERERDKwaSIiIiKSgU0TERERkQxsmoiIiIhkYNNEREREJAObJiIiIiIZ2DQRERERyWBV3gkQ0d9Pncm7yjuFUlFZCsxvU95ZEFF5454mIiIiIhnYNBERERHJYDJN07x586BQKBAaGiqNPXnyBMHBwahWrRrs7e3Rp08fpKen67zuxo0bCAwMhJ2dHZycnDBhwgQ8ffpUJ+bAgQNo1aoVVCoVPD09ER0drbf+iIgI1KlTBzY2NvD19cXx48eNUSYRERGZKZNomk6cOIH//Oc/8Pb21hkfN24cduzYgc2bN+PgwYO4desW3n33XWl5Xl4eAgMDkZubiyNHjmDNmjWIjo7G9OnTpZiUlBQEBgaiU6dOSEpKQmhoKEaMGIGYmBgpZuPGjQgLC8OMGTNw6tQpNG/eHBqNBhkZGcYvnoiIiMxCuTdNjx49wsCBA/Hf//4XVapUkcYfPHiAVatWYfHixXj77bfh4+ODqKgoHDlyBEePHgUAxMbG4sKFC1i7di1atGiBbt26Yfbs2YiIiEBubi4AIDIyEh4eHli0aBEaN26MkJAQvPfee1iyZIm0rsWLF2PkyJEYOnQovLy8EBkZCTs7O6xevfrVbgwiIiIyWeXeNAUHByMwMBD+/v4644mJidBqtTrjjRo1Qu3atZGQkAAASEhIQLNmzeDs7CzFaDQaZGZm4vz581LMi3NrNBppjtzcXCQmJurEWFhYwN/fX4ohIiIiKtdbDmzYsAGnTp3CiRMn9JalpaVBqVTC0dFRZ9zZ2RlpaWlSzPMNU8HygmXFxWRmZuLx48e4d+8e8vLyCo25dOlSkbnn5OQgJydHep6ZmQkA0Gq10Gq1xZVdagXzGXpeU8H6zF9pa1RZCmOmY3Aqi2f58j00X6zP/BmrxtLMV25N059//omxY8ciLi4ONjY25ZVGmc2dOxczZ87UG4+NjYWdnZ1R1hkXF2eUeU0F6zN/cms013se8T00f6zP/Bm6xuzsbNmx5dY0JSYmIiMjA61atZLG8vLycOjQISxfvhwxMTHIzc3F/fv3dfY2paenw8XFBQDg4uKid5VbwdV1z8e8eMVdeno61Go1bG1tYWlpCUtLy0JjCuYozJQpUxAWFiY9z8zMhJubGwICAqBWq0uxJUqm1WoRFxeHLl26wNra2qBzmwLWZ/5KW2PT8JgSY0yJykJgdut8vodmjPWZP2PVWHCkSI5ya5o6d+6M3377TWds6NChaNSoESZNmgQ3NzdYW1sjPj4effr0AQAkJyfjxo0b8PPzAwD4+flhzpw5yMjIgJOTE4BnHaharYaXl5cUs3v3bp31xMXFSXMolUr4+PggPj4evXr1AgDk5+cjPj4eISEhReavUqmgUqn0xq2trY32gTXm3KaA9Zk/uTXm5CleQTaGx/fQ/LE+82foGkszV7k1TZUrV0bTpk11xipVqoRq1apJ48OHD0dYWBiqVq0KtVqNMWPGwM/PD23btgUABAQEwMvLC4MHD8b8+fORlpaGadOmITg4WGpoRo0aheXLl2PixIkYNmwY9u3bh02bNmHXrv//NQ5hYWEICgpC69at0aZNGyxduhRZWVkYOnToK9oaREREZOpM+rvnlixZAgsLC/Tp0wc5OTnQaDRYsWKFtNzS0hI7d+7E6NGj4efnh0qVKiEoKAizZs2SYjw8PLBr1y6MGzcOy5YtQ61atbBy5UpoNBoppm/fvrh9+zamT5+OtLQ0tGjRAnv37tU7OZyIiIj+vkyqaTpw4IDOcxsbG0RERCAiIqLI17i7u+sdfntRx44dcfr06WJjQkJCij0cR0RERH9v5X6fJiIiIiJzwKaJiIiISAY2TUREREQysGkiIiIikoFNExEREZEMbJqIiIiIZGDTRERERCQDmyYiIiIiGdg0EREREcnApomIiIhIBjZNRERERDKwaSIiIiKSgU0TERERkQxsmoiIiIhkYNNEREREJAObJiIiIiIZ2DQRERERycCmiYiIiEgGNk1EREREMrBpIiIiIpKBTRMRERGRDGyaiIiIiGRg00REREQkA5smIiIiIhnYNBERERHJwKaJiIiISAY2TUREREQysGkiIiIikoFNExEREZEMbJqIiIiIZGDTRERERCQDmyYiIiIiGcq1afr666/h7e0NtVoNtVoNPz8/7NmzR1resWNHKBQKnceoUaN05rhx4wYCAwNhZ2cHJycnTJgwAU+fPtWJOXDgAFq1agWVSgVPT09ER0fr5RIREYE6derAxsYGvr6+OH78uFFqJiIiIvNUrk1TrVq1MG/ePCQmJuLkyZN4++230bNnT5w/f16KGTlyJFJTU6XH/PnzpWV5eXkIDAxEbm4ujhw5gjVr1iA6OhrTp0+XYlJSUhAYGIhOnTohKSkJoaGhGDFiBGJiYqSYjRs3IiwsDDNmzMCpU6fQvHlzaDQaZGRkvJoNQURERCavXJumHj16oHv37qhfvz4aNGiAOXPmwN7eHkePHpVi7Ozs4OLiIj3UarW0LDY2FhcuXMDatWvRokULdOvWDbNnz0ZERARyc3MBAJGRkfDw8MCiRYvQuHFjhISE4L333sOSJUukeRYvXoyRI0di6NCh8PLyQmRkJOzs7LB69epXtzGIiIjIpJnMOU15eXnYsGEDsrKy4OfnJ42vW7cO1atXR9OmTTFlyhRkZ2dLyxISEtCsWTM4OztLYxqNBpmZmdLeqoSEBPj7++usS6PRICEhAQCQm5uLxMREnRgLCwv4+/tLMURERERW5Z3Ab7/9Bj8/Pzx58gT29vbYtm0bvLy8AAADBgyAu7s7XF1dcfbsWUyaNAnJycnYunUrACAtLU2nYQIgPU9LSys2JjMzE48fP8a9e/eQl5dXaMylS5eKzDsnJwc5OTnS88zMTACAVquFVqsty6YoUsF8hp7XVLA+81faGlWWwpjpGJzK4lm+fA/NF+szf8aqsTTzlXvT1LBhQyQlJeHBgwfYsmULgoKCcPDgQXh5eeGjjz6S4po1a4aaNWuic+fOuHbtGurVq1eOWQNz587FzJkz9cZjY2NhZ2dnlHXGxcUZZV5TwfrMn9wa57cxciJGwvfQ/LE+82foGp8/glWScm+alEolPD09AQA+Pj44ceIEli1bhv/85z96sb6+vgCAq1evol69enBxcdG7yi09PR0A4OLiIv23YOz5GLVaDVtbW1haWsLS0rLQmII5CjNlyhSEhYVJzzMzM+Hm5oaAgACd864MQavVIi4uDl26dIG1tbVB5zYFrM/8lbbGpuExJcaYEpWFwOzW+XwPzRjrM3/GqrHgSJEc5d40vSg/P1/nsNfzkpKSAAA1a9YEAPj5+WHOnDnIyMiAk5MTgGcdqFqtlg7x+fn5Yffu3TrzxMXFSedNKZVK+Pj4ID4+Hr169ZJyiI+PR0hISJF5qlQqqFQqvXFra2ujfWCNObcpYH3mT26NOXmKV5CN4fE9NH+sz/wZusbSzFWuTdOUKVPQrVs31K5dGw8fPsT69etx4MABxMTE4Nq1a1i/fj26d++OatWq4ezZsxg3bhw6dOgAb29vAEBAQAC8vLwwePBgzJ8/H2lpaZg2bRqCg4OlhmbUqFFYvnw5Jk6ciGHDhmHfvn3YtGkTdu3aJeURFhaGoKAgtG7dGm3atMHSpUuRlZWFoUOHlst2ISIiItNTrk1TRkYGPvzwQ6SmpsLBwQHe3t6IiYlBly5d8Oeff+Lnn3+WGhg3Nzf06dMH06ZNk15vaWmJnTt3YvTo0fDz80OlSpUQFBSEWbNmSTEeHh7YtWsXxo0bh2XLlqFWrVpYuXIlNBqNFNO3b1/cvn0b06dPR1paGlq0aIG9e/fqnRxOREREf1/l2jStWrWqyGVubm44ePBgiXO4u7vrHX57UceOHXH69OliY0JCQoo9HEdERER/byZznyYiIiIiU8amiYiIiEgGk7t6jojIVDUNjzGrK/+uzwss7xSIKhTuaSIiIiKSgU0TERERkQxsmoiIiIhkYNNEREREJAObJiIiIiIZ2DQRERERycCmiYiIiEgGNk1EREREMrBpIiIiIpKBTRMRERGRDGyaiIiIiGRg00REREQkA5smIiIiIhnYNBERERHJwKaJiIiISAY2TUREREQysGkiIiIikoFNExEREZEMbJqIiIiIZGDTRERERCQDmyYiIiIiGdg0EREREcnApomIiIhIBjZNRERERDKwaSIiIiKSgU0TERERkQxsmoiIiIhkYNNEREREJAObJiIiIiIZyrVp+vrrr+Ht7Q21Wg21Wg0/Pz/s2bNHWv7kyRMEBwejWrVqsLe3R58+fZCenq4zx40bNxAYGAg7Ozs4OTlhwoQJePr0qU7MgQMH0KpVK6hUKnh6eiI6Olovl4iICNSpUwc2Njbw9fXF8ePHjVIzERERmadybZpq1aqFefPmITExESdPnsTbb7+Nnj174vz58wCAcePGYceOHdi8eTMOHjyIW7du4d1335Ven5eXh8DAQOTm5uLIkSNYs2YNoqOjMX36dCkmJSUFgYGB6NSpE5KSkhAaGooRI0YgJiZGitm4cSPCwsIwY8YMnDp1Cs2bN4dGo0FGRsar2xhERERk0sq1aerRowe6d++O+vXro0GDBpgzZw7s7e1x9OhRPHjwAKtWrcLixYvx9ttvw8fHB1FRUThy5AiOHj0KAIiNjcWFCxewdu1atGjRAt26dcPs2bMRERGB3NxcAEBkZCQ8PDywaNEiNG7cGCEhIXjvvfewZMkSKY/Fixdj5MiRGDp0KLy8vBAZGQk7OzusXr26XLYLERERmR6TOacpLy8PGzZsQFZWFvz8/JCYmAitVgt/f38pplGjRqhduzYSEhIAAAkJCWjWrBmcnZ2lGI1Gg8zMTGlvVUJCgs4cBTEFc+Tm5iIxMVEnxsLCAv7+/lIMERERkVV5J/Dbb7/Bz88PT548gb29PbZt2wYvLy8kJSVBqVTC0dFRJ97Z2RlpaWkAgLS0NJ2GqWB5wbLiYjIzM/H48WPcu3cPeXl5hcZcunSpyLxzcnKQk5MjPc/MzAQAaLVaaLXaUmyBkhXMZ+h5TQXrM3+lrVFlKYyZjsGpLITOf81FaT5zFf1zyvrMn7FqLM185d40NWzYEElJSXjw4AG2bNmCoKAgHDx4sLzTKtHcuXMxc+ZMvfHY2FjY2dkZZZ1xcXFGmddUsD7zJ7fG+W2MnIiRzG6dX94plMru3btL/ZqK/jllfebP0DVmZ2fLji33pkmpVMLT0xMA4OPjgxMnTmDZsmXo27cvcnNzcf/+fZ29Tenp6XBxcQEAuLi46F3lVnB13fMxL15xl56eDrVaDVtbW1haWsLS0rLQmII5CjNlyhSEhYVJzzMzM+Hm5oaAgACo1epSboXiabVaxMXFoUuXLrC2tjbo3KaA9Zm/0tbYNDymxBhTorIQmN06H5+dtEBOvqK805HtXLhGdmxF/5yyPvNnrBoLjhTJUe5N04vy8/ORk5MDHx8fWFtbIz4+Hn369AEAJCcn48aNG/Dz8wMA+Pn5Yc6cOcjIyICTkxOAZx2oWq2Gl5eXFPPiX1txcXHSHEqlEj4+PoiPj0evXr2kHOLj4xESElJkniqVCiqVSm/c2traaB9YY85tClif+ZNbY06e+TQez8vJV5hV7mX5vFX0zynrM3+GrrE0c5Vr0zRlyhR069YNtWvXxsOHD7F+/XocOHAAMTExcHBwwPDhwxEWFoaqVatCrVZjzJgx8PPzQ9u2bQEAAQEB8PLywuDBgzF//nykpaVh2rRpCA4OlhqaUaNGYfny5Zg4cSKGDRuGffv2YdOmTdi1a5eUR1hYGIKCgtC6dWu0adMGS5cuRVZWFoYOHVou24WIiIhMT7k2TRkZGfjwww+RmpoKBwcHeHt7IyYmBl26dAEALFmyBBYWFujTpw9ycnKg0WiwYsUK6fWWlpbYuXMnRo8eDT8/P1SqVAlBQUGYNWuWFOPh4YFdu3Zh3LhxWLZsGWrVqoWVK1dCo/n/u6379u2L27dvY/r06UhLS0OLFi2wd+9evZPDiYiI6O+rXJumVatWFbvcxsYGERERiIiIKDLG3d29xJMdO3bsiNOnTxcbExISUuzhOCIiIvp7M5n7NBERERGZMjZNRERERDKwaSIiIiKSgU0TERERkQxsmoiIiIhkYNNEREREJAObJiIiIiIZ2DQRERERycCmiYiIiEgGk/vCXiIqnTqTd5UcZGQqS4H5bYCm4TFm9YW2RESlwT1NRERERDKwaSIiIiKSgU0TERERkQxsmoiIiIhkYNNEREREJAObJiIiIiIZ2DQRERERycCmiYiIiEgGNk1EREREMrBpIiIiIpKBTRMRERGRDGyaiIiIiGRg00REREQkA5smIiIiIhnYNBERERHJwKaJiIiISAY2TUREREQysGkiIiIikoFNExEREZEMbJqIiIiIZGDTRERERCQDmyYiIiIiGcq1aZo7dy5ef/11VK5cGU5OTujVqxeSk5N1Yjp27AiFQqHzGDVqlE7MjRs3EBgYCDs7Ozg5OWHChAl4+vSpTsyBAwfQqlUrqFQqeHp6Ijo6Wi+fiIgI1KlTBzY2NvD19cXx48cNXjMRERGZp3Jtmg4ePIjg4GAcPXoUcXFx0Gq1CAgIQFZWlk7cyJEjkZqaKj3mz58vLcvLy0NgYCByc3Nx5MgRrFmzBtHR0Zg+fboUk5KSgsDAQHTq1AlJSUkIDQ3FiBEjEBMTI8Vs3LgRYWFhmDFjBk6dOoXmzZtDo9EgIyPD+BuCiIiITJ5VWV70+++/o27dui+98r179+o8j46OhpOTExITE9GhQwdp3M7ODi4uLoXOERsbiwsXLuDnn3+Gs7MzWrRogdmzZ2PSpEkIDw+HUqlEZGQkPDw8sGjRIgBA48aNcfjwYSxZsgQajQYAsHjxYowcORJDhw4FAERGRmLXrl1YvXo1Jk+e/NK1EhERkXkr054mT09PdOrUCWvXrsWTJ08MlsyDBw8AAFWrVtUZX7duHapXr46mTZtiypQpyM7OlpYlJCSgWbNmcHZ2lsY0Gg0yMzNx/vx5Kcbf319nTo1Gg4SEBABAbm4uEhMTdWIsLCzg7+8vxRAREdHfW5n2NJ06dQpRUVEICwtDSEgI+vbti+HDh6NNmzZlTiQ/Px+hoaF488030bRpU2l8wIABcHd3h6urK86ePYtJkyYhOTkZW7duBQCkpaXpNEwApOdpaWnFxmRmZuLx48e4d+8e8vLyCo25dOlSofnm5OQgJydHep6ZmQkA0Gq10Gq1ZdkERSqYz9DzmgrW93JUlsIo85YqBwuh89+KxlzrK81njj+H5q2i1wcYr8bSzFempqlFixZYtmwZFi1ahJ9++gnR0dFo164dGjRogGHDhmHw4MGoUaNGqeYMDg7GuXPncPjwYZ3xjz76SPr/Zs2aoWbNmujcuTOuXbuGevXqlSV9g5g7dy5mzpypNx4bGws7OzujrDMuLs4o85oK1lc288v+t4rBzW6dX94pGJW51bd79+5Sv4Y/h+atotcHGL7G549elaRMTZP0YisrvPvuuwgMDMSKFSswZcoUfPLJJ/j000/xwQcf4IsvvkDNmjVLnCckJAQ7d+7EoUOHUKtWrWJjfX19AQBXr15FvXr14OLioneVW3p6OgBI50G5uLhIY8/HqNVq2NrawtLSEpaWloXGFHUu1ZQpUxAWFiY9z8zMhJubGwICAqBWq0usuTS0Wi3i4uLQpUsXWFtbG3RuU8D6Xk7T8JiSg4xMZSEwu3U+PjtpgZx8RXmnY3DmWt+5cI3sWP4cmreKXh9gvBoLjhTJ8VJN08mTJ7F69Wps2LABlSpVwieffILhw4fj5s2bmDlzJnr27FnsZftCCIwZMwbbtm3DgQMH4OHhUeI6k5KSAEBqxvz8/DBnzhxkZGTAyckJwLMuVK1Ww8vLS4p58S+uuLg4+Pn5AQCUSiV8fHwQHx+PXr16AXh2uDA+Ph4hISGF5qFSqaBSqfTGra2tjfaBNebcpoD1lU1Onun8I56TrzCpfAzN3Oory+eNP4fmraLXBxi+xtLMVaamafHixYiKikJycjK6d++Ob7/9Ft27d4eFxbPzyj08PBAdHY06deoUO09wcDDWr1+PH3/8EZUrV5bOQXJwcICtrS2uXbuG9evXo3v37qhWrRrOnj2LcePGoUOHDvD29gYABAQEwMvLC4MHD8b8+fORlpaGadOmITg4WGpqRo0aheXLl2PixIkYNmwY9u3bh02bNmHXrl1SLmFhYQgKCkLr1q3Rpk0bLF26FFlZWdLVdERERPT3Vqam6euvv8awYcMwZMiQIg+/OTk5YdWqVSXOAzy7geXzoqKiMGTIECiVSvz8889SA+Pm5oY+ffpg2rRpUqylpSV27tyJ0aNHw8/PD5UqVUJQUBBmzZolxXh4eGDXrl0YN24cli1bhlq1amHlypXS7QYAoG/fvrh9+zamT5+OtLQ0tGjRAnv37tU7OZyIiIj+nsrUNF25cqXEGKVSiaCgoGJjhCj+ShQ3NzccPHiwxHW5u7uXeMJjx44dcfr06WJjQkJCijwcR0RERH9vZbpPU1RUFDZv3qw3vnnzZqxZs+alkyIiIiIyNWVqmubOnYvq1avrjTs5OeHf//73SydFREREZGrK1DTduHGj0Cvd3N3dcePGjZdOioiIiMjUlKlpcnJywtmzZ/XGz5w5g2rVqr10UkRERESmpkxNU//+/fHxxx9j//79yMvLQ15eHvbt24exY8eiX79+hs6RiIiIqNyV6eq52bNn4/r16+jcuTOsrJ5NkZ+fjw8//JDnNBEREVGFVKamSalUYuPGjZg9ezbOnDkDW1tbNGvWDO7u7obOj4iIiMgkvNTXqDRo0AANGjQwVC5EREREJqtMTVNeXh6io6MRHx+PjIwM5OfrfvP3vn37DJIcERERkakoU9M0duxYREdHIzAwEE2bNoVCYT5fYElERERUFmVqmjZs2IBNmzahe/fuhs6HiIiIyCSV6ZYDSqUSnp6ehs6FiIiIyGSVqWkaP348li1bVuIX7hIRERFVFGU6PHf48GHs378fe/bsQZMmTWBtba2zfOvWrQZJjoiIiMhUlKlpcnR0RO/evQ2dCxEREZHJKlPTFBUVZeg8iIiIiExamc5pAoCnT5/i559/xn/+8x88fPgQAHDr1i08evTIYMkRERERmYoy7Wn6448/0LVrV9y4cQM5OTno0qULKleujC+++AI5OTmIjIw0dJ5ERERE5apMe5rGjh2L1q1b4969e7C1tZXGe/fujfj4eIMlR0RERGQqyrSn6ZdffsGRI0egVCp1xuvUqYO//vrLIIkRERERmZIy7WnKz89HXl6e3vjNmzdRuXLll06KiIiIyNSUqWkKCAjA0qVLpecKhQKPHj3CjBkz+NUqREREVCGV6fDcokWLoNFo4OXlhSdPnmDAgAG4cuUKqlevju+//97QORIRERGVuzI1TbVq1cKZM2ewYcMGnD17Fo8ePcLw4cMxcOBAnRPDiYiIiCqKMjVNAGBlZYVBgwYZMhciIiIik1Wmpunbb78tdvmHH35YpmSIiIiITFWZmqaxY8fqPNdqtcjOzoZSqYSdnR2bJiIiIqpwynT13L1793Qejx49QnJyMtq1a8cTwYmIiKhCKvN3z72ofv36mDdvnt5eKCIiIqKKwGBNE/Ds5PBbt24ZckoiIiIik1Cmc5p++uknnedCCKSmpmL58uV48803DZIYERERkSkpU9PUq1cvnecKhQI1atTA22+/jUWLFhkiLyIiIiKTUubvnnv+kZeXh7S0NKxfvx41a9aUPc/cuXPx+uuvo3LlynByckKvXr2QnJysE/PkyRMEBwejWrVqsLe3R58+fZCenq4Tc+PGDQQGBsLOzg5OTk6YMGECnj59qhNz4MABtGrVCiqVCp6enoiOjtbLJyIiAnXq1IGNjQ18fX1x/Phx+RuFiIiIKjSDntNUWgcPHkRwcDCOHj2KuLg4aLVaBAQEICsrS4oZN24cduzYgc2bN+PgwYO4desW3n33XWl5Xl4eAgMDkZubiyNHjmDNmjWIjo7G9OnTpZiUlBQEBgaiU6dOSEpKQmhoKEaMGIGYmBgpZuPGjQgLC8OMGTNw6tQpNG/eHBqNBhkZGa9mYxAREZFJK9PhubCwMNmxixcvLnLZ3r17dZ5HR0fDyckJiYmJ6NChAx48eIBVq1Zh/fr1ePvttwEAUVFRaNy4MY4ePYq2bdsiNjYWFy5cwM8//wxnZ2e0aNECs2fPxqRJkxAeHg6lUonIyEh4eHhIhw4bN26Mw4cPY8mSJdBoNFKeI0eOxNChQwEAkZGR2LVrF1avXo3JkyeXavsQERFRxVOmpun06dM4ffo0tFotGjZsCAC4fPkyLC0t0apVKylOoVCUat4HDx4AAKpWrQoASExMhFarhb+/vxTTqFEj1K5dGwkJCWjbti0SEhLQrFkzODs7SzEajQajR4/G+fPn0bJlSyQkJOjMURATGhoKAMjNzUViYiKmTJkiLbewsIC/vz8SEhJKVQMRERFVTGVqmnr06IHKlStjzZo1qFKlCoBnN7wcOnQo2rdvj/Hjx5d6zvz8fISGhuLNN99E06ZNAQBpaWlQKpVwdHTUiXV2dkZaWpoU83zDVLC8YFlxMZmZmXj8+DHu3buHvLy8QmMuXbpUaL45OTnIycmRnmdmZgJ4dnd0rVZbmtJLVDCfoec1Fazv5agshVHmLVUOFkLnvxWNudZXms8cfw7NW0WvDzBejaWZr0xN06JFixAbGys1TABQpUoVfP755wgICChT0xQcHIxz587h8OHDZUnplZs7dy5mzpypNx4bGws7OzujrDMuLs4o85oK1lc289sYZdoymd06v7xTMCpzq2/37t2lfg1/Ds1bRa8PMHyN2dnZsmPL1DRlZmbi9u3beuO3b9/Gw4cPSz1fSEgIdu7ciUOHDqFWrVrSuIuLC3Jzc3H//n2dvU3p6elwcXGRYl68yq3g6rrnY1684i49PR1qtRq2trawtLSEpaVloTEFc7xoypQpOud2ZWZmws3NDQEBAVCr1aXcAsXTarWIi4tDly5dYG1tbdC5TQHrezlNw2NKDjIylYXA7Nb5+OykBXLyS3dY3hyYa33nwjWyY/lzaN4qen2A8WosOFIkR5mapt69e2Po0KFYtGgR2rR59mfusWPHMGHCBJ0r20oihMCYMWOwbds2HDhwAB4eHjrLfXx8YG1tjfj4ePTp0wcAkJycjBs3bsDPzw8A4Ofnhzlz5iAjIwNOTk4AnnWharUaXl5eUsyLf3HFxcVJcyiVSvj4+CA+Pl66B1V+fj7i4+MREhJSaO4qlQoqlUpv3Nra2mgfWGPObQpYX9nk5JnOP+I5+QqTysfQzK2+snze+HNo3ip6fYDhayzNXGVqmiIjI/HJJ59gwIAB0rFAKysrDB8+HAsWLJA9T3BwMNavX48ff/wRlStXls5BcnBwgK2tLRwcHDB8+HCEhYWhatWqUKvVGDNmDPz8/NC2bVsAQEBAALy8vDB48GDMnz8faWlpmDZtGoKDg6WmZtSoUVi+fDkmTpyIYcOGYd++fdi0aRN27dol5RIWFoagoCC0bt0abdq0wdKlS5GVlSVdTUdERER/b2Vqmuzs7LBixQosWLAA165dAwDUq1cPlSpVKtU8X3/9NQCgY8eOOuNRUVEYMmQIAGDJkiWwsLBAnz59kJOTA41GgxUrVkixlpaW2LlzJ0aPHg0/Pz9UqlQJQUFBmDVrlhTj4eGBXbt2Ydy4cVi2bBlq1aqFlStXSrcbAIC+ffvi9u3bmD59OtLS0tCiRQvs3btX7+RwIiIi+nsqU9NUIDU1FampqejQoQNsbW0hhCjVbQaEKPlKFBsbG0RERCAiIqLIGHd39xJPeOzYsSNOnz5dbExISEiRh+OIiIjo761MdwS/c+cOOnfujAYNGqB79+5ITU0FAAwfPrxMV84RERERmboyNU3jxo2DtbU1bty4oXN5fd++ffXu8k1ERERUEZTp8FxsbCxiYmJ0bg8AAPXr18cff/xhkMSIiIiITEmZ9jRlZWUVegPHu3fvFnoZPhEREZG5K1PT1L59e3z77bfSc4VCgfz8fMyfPx+dOnUyWHJEREREpqJMh+fmz5+Pzp074+TJk8jNzcXEiRNx/vx53L17F7/++quhcyQiIiIqd2Xa09S0aVNcvnwZ7dq1Q8+ePZGVlYV3330Xp0+fRr169QydIxEREVG5K/WeJq1Wi65duyIyMhJTp041Rk5EREREJqfUe5qsra1x9uxZY+RCREREZLLKdHhu0KBBWLVqlaFzISIiIjJZZToR/OnTp1i9ejV+/vln+Pj46H3n3OLFiw2SHBEREZGpKFXT9Pvvv6NOnTo4d+4cWrVqBQC4fPmyTkxpvnuOiIiIyFyUqmmqX78+UlNTsX//fgDPvjblyy+/hLOzs1GSIyIiIjIVpTqnSQih83zPnj3IysoyaEJEREREpqhMJ4IXeLGJIiIiIqqoStU0KRQKvXOWeA4TERER/R2U6pwmIQSGDBkifSnvkydPMGrUKL2r57Zu3Wq4DImIiIhMQKmapqCgIJ3ngwYNMmgyRERERKaqVE1TVFSUsfIgIiIiMmkvdSI4ERER0d8FmyYiIiIiGdg0EREREclQpu+eIyIi01dn8i7ZsSpLgfltgKbhMcjJK79byVyfF1hu6yYqCfc0EREREcnApomIiIhIBjZNRERERDKwaSIiIiKSgU0TERERkQxsmoiIiIhkYNNEREREJAObJiIiIiIZ2DQRERERyVCuTdOhQ4fQo0cPuLq6QqFQYPv27TrLhwwZAoVCofPo2rWrTszdu3cxcOBAqNVqODo6Yvjw4Xj06JFOzNmzZ9G+fXvY2NjAzc0N8+fP18tl8+bNaNSoEWxsbNCsWTPs3r3b4PUSERGR+SrXpikrKwvNmzdHREREkTFdu3ZFamqq9Pj+++91lg8cOBDnz59HXFwcdu7ciUOHDuGjjz6SlmdmZiIgIADu7u5ITEzEggULEB4ejm+++UaKOXLkCPr374/hw4fj9OnT6NWrF3r16oVz584ZvmgiIiIyS+X63XPdunVDt27dio1RqVRwcXEpdNnFixexd+9enDhxAq1btwYAfPXVV+jevTsWLlwIV1dXrFu3Drm5uVi9ejWUSiWaNGmCpKQkLF68WGquli1bhq5du2LChAkAgNmzZyMuLg7Lly9HZGSkASsmIiIic2Xy5zQdOHAATk5OaNiwIUaPHo07d+5IyxISEuDo6Cg1TADg7+8PCwsLHDt2TIrp0KEDlEqlFKPRaJCcnIx79+5JMf7+/jrr1Wg0SEhIMGZpREREZEbKdU9TSbp27Yp3330XHh4euHbtGj799FN069YNCQkJsLS0RFpaGpycnHReY2VlhapVqyItLQ0AkJaWBg8PD50YZ2dnaVmVKlWQlpYmjT0fUzBHYXJycpCTkyM9z8zMBABotVpotdqyF12IgvkMPa+pYH0vR2UpjDJvqXKwEDr/rWgqen2A6dRorJ8T/p4xf8aqsTTzmXTT1K9fP+n/mzVrBm9vb9SrVw8HDhxA586dyzEzYO7cuZg5c6beeGxsLOzs7Iyyzri4OKPMaypYX9nMb2OUactkduv88k7BqCp6fUD512jsi3D4e8b8GbrG7Oxs2bEm3TS9qG7duqhevTquXr2Kzp07w8XFBRkZGToxT58+xd27d6XzoFxcXJCenq4TU/C8pJiizqUCgClTpiAsLEx6npmZCTc3NwQEBECtVpe9yEJotVrExcWhS5cusLa2NujcpoD1vZym4TEGn7O0VBYCs1vn47OTFsjJV5R3OgZX0esDTKfGc+Eao8zL3zPmz1g1FhwpksOsmqabN2/izp07qFmzJgDAz88P9+/fR2JiInx8fAAA+/btQ35+Pnx9faWYqVOnQqvVShs5Li4ODRs2RJUqVaSY+Ph4hIaGSuuKi4uDn59fkbmoVCqoVCq9cWtra6N9YI05tylgfWWTk2c6/4jn5CtMKh9Dq+j1AeVfo7F/B/D3jPkzdI2lmatcTwR/9OgRkpKSkJSUBABISUlBUlISbty4gUePHmHChAk4evQorl+/jvj4ePTs2ROenp7QaJ79JdK4cWN07doVI0eOxPHjx/Hrr78iJCQE/fr1g6urKwBgwIABUCqVGD58OM6fP4+NGzdi2bJlOnuJxo4di71792LRokW4dOkSwsPDcfLkSYSEhLzybUJERESmqVybppMnT6Jly5Zo2bIlACAsLAwtW7bE9OnTYWlpibNnz+Kdd95BgwYNMHz4cPj4+OCXX37R2cOzbt06NGrUCJ07d0b37t3Rrl07nXswOTg4IDY2FikpKfDx8cH48eMxffp0nXs5vfHGG1i/fj2++eYbNG/eHFu2bMH27dvRtGnTV7cxiIiIyKSV6+G5jh07Qoiir9SIiSn5XI2qVati/fr1xcZ4e3vjl19+KTbm/fffx/vvv1/i+oiIiOjvyeTv00RERERkCtg0EREREcnApomIiIhIBjZNRERERDKwaSIiIiKSgU0TERERkQxsmoiIiIhkYNNEREREJAObJiIiIiIZ2DQRERERycCmiYiIiEgGNk1EREREMrBpIiIiIpKBTRMRERGRDGyaiIiIiGRg00REREQkA5smIiIiIhnYNBERERHJwKaJiIiISAY2TUREREQysGkiIiIikoFNExEREZEMbJqIiIiIZGDTRERERCQDmyYiIiIiGdg0EREREcnApomIiIhIBjZNRERERDKwaSIiIiKSgU0TERERkQxsmoiIiIhkYNNEREREJEO5Nk2HDh1Cjx494OrqCoVCge3bt+ssF0Jg+vTpqFmzJmxtbeHv748rV67oxNy9excDBw6EWq2Go6Mjhg8fjkePHunEnD17Fu3bt4eNjQ3c3Nwwf/58vVw2b96MRo0awcbGBs2aNcPu3bsNXi8RERGZr3JtmrKystC8eXNEREQUunz+/Pn48ssvERkZiWPHjqFSpUrQaDR48uSJFDNw4ECcP38ecXFx2LlzJw4dOoSPPvpIWp6ZmYmAgAC4u7sjMTERCxYsQHh4OL755hsp5siRI+jfvz+GDx+O06dPo1evXujVqxfOnTtnvOKJiIjIrFiV58q7deuGbt26FbpMCIGlS5di2rRp6NmzJwDg22+/hbOzM7Zv345+/frh4sWL2Lt3L06cOIHWrVsDAL766it0794dCxcuhKurK9atW4fc3FysXr0aSqUSTZo0QVJSEhYvXiw1V8uWLUPXrl0xYcIEAMDs2bMRFxeH5cuXIzIy8hVsCSIiIjJ15do0FSclJQVpaWnw9/eXxhwcHODr64uEhAT069cPCQkJcHR0lBomAPD394eFhQWOHTuG3r17IyEhAR06dIBSqZRiNBoNvvjiC9y7dw9VqlRBQkICwsLCdNav0Wj0DhdSxVdn8i6Dz6myFJjfBmgaHoOcPIXB5yciolfDZJumtLQ0AICzs7POuLOzs7QsLS0NTk5OOsutrKxQtWpVnRgPDw+9OQqWValSBWlpacWupzA5OTnIycmRnmdmZgIAtFottFqt7DrlKJjP0POaClOqT2UpDD+nhdD5b0VU0Wus6PUBplOjsX4PmNLvGWOo6PUBxquxNPOZbNNk6ubOnYuZM2fqjcfGxsLOzs4o64yLizPKvKbCFOqb38Z4c89unW+8yU1ERa+xotcHlH+Nxr4IxxR+zxhTRa8PMHyN2dnZsmNNtmlycXEBAKSnp6NmzZrSeHp6Olq0aCHFZGRk6Lzu6dOnuHv3rvR6FxcXpKen68QUPC8ppmB5YaZMmaJzSC8zMxNubm4ICAiAWq0uTakl0mq1iIuLQ5cuXWBtbW3QuU2BKdXXNDzG4HOqLARmt87HZyctkJNfMQ/PVfQaK3p9gOnUeC5cY5R5Ten3jDFU9PoA49VYcKRIDpNtmjw8PODi4oL4+HipScrMzMSxY8cwevRoAICfnx/u37+PxMRE+Pj4AAD27duH/Px8+Pr6SjFTp06FVquVNnJcXBwaNmyIKlWqSDHx8fEIDQ2V1h8XFwc/P78i81OpVFCpVHrj1tbWRvvAGnNuU2AK9RnznKOcfEWFP6epotdY0esDyr9GY/8OMIXfM8ZU0esDDF9jaeYq11sOPHr0CElJSUhKSgLw7OTvpKQk3LhxAwqFAqGhofj888/x008/4bfffsOHH34IV1dX9OrVCwDQuHFjdO3aFSNHjsTx48fx66+/IiQkBP369YOrqysAYMCAAVAqlRg+fDjOnz+PjRs3YtmyZTp7icaOHYu9e/di0aJFuHTpEsLDw3Hy5EmEhIS86k1CREREJqpc9zSdPHkSnTp1kp4XNDJBQUGIjo7GxIkTkZWVhY8++gj3799Hu3btsHfvXtjY2EivWbduHUJCQtC5c2dYWFigT58++PLLL6XlDg4OiI2NRXBwMHx8fFC9enVMnz5d515Ob7zxBtavX49p06bh008/Rf369bF9+3Y0bdr0FWwFIiIiMgfl2jR17NgRQhR9pYZCocCsWbMwa9asImOqVq2K9evXF7seb29v/PLLL8XGvP/++3j//feLT5iIiIj+tvjdc0REREQysGkiIiIikoFNExEREZEMbJqIiIiIZGDTRERERCQDmyYiIiIiGdg0EREREcnApomIiIhIBjZNRERERDKwaSIiIiKSgU0TERERkQxsmoiIiIhkYNNEREREJAObJiIiIiIZ2DQRERERycCmiYiIiEgGNk1EREREMrBpIiIiIpKBTRMRERGRDGyaiIiIiGRg00REREQkA5smIiIiIhnYNBERERHJwKaJiIiISAY2TUREREQysGkiIiIikoFNExEREZEMbJqIiIiIZGDTRERERCQDmyYiIiIiGdg0EREREcnApomIiIhIBpNumsLDw6FQKHQejRo1kpY/efIEwcHBqFatGuzt7dGnTx+kp6frzHHjxg0EBgbCzs4OTk5OmDBhAp4+faoTc+DAAbRq1QoqlQqenp6Ijo5+FeURERGRGTHppgkAmjRpgtTUVOlx+PBhadm4ceOwY8cObN68GQcPHsStW7fw7rvvSsvz8vIQGBiI3NxcHDlyBGvWrEF0dDSmT58uxaSkpCAwMBCdOnVCUlISQkNDMWLECMTExLzSOomIiMi0WZV3AiWxsrKCi4uL3viDBw+watUqrF+/Hm+//TYAICoqCo0bN8bRo0fRtm1bxMbG4sKFC/j555/h7OyMFi1aYPbs2Zg0aRLCw8OhVCoRGRkJDw8PLFq0CADQuHFjHD58GEuWLIFGo3mltRIREZHpMvk9TVeuXIGrqyvq1q2LgQMH4saNGwCAxMREaLVa+Pv7S7GNGjVC7dq1kZCQAABISEhAs2bN4OzsLMVoNBpkZmbi/PnzUszzcxTEFMxBREREBJj4niZfX19ER0ejYcOGSE1NxcyZM9G+fXucO3cOaWlpUCqVcHR01HmNs7Mz0tLSAABpaWk6DVPB8oJlxcVkZmbi8ePHsLW1LTS3nJwc5OTkSM8zMzMBAFqtFlqttuxFF6JgPkPPaypMqT6VpTD8nBZC578VUUWvsaLXB5hOjcb6PWBKv2eMoaLXBxivxtLMZ9JNU7du3aT/9/b2hq+vL9zd3bFp06Yim5lXZe7cuZg5c6beeGxsLOzs7Iyyzri4OKPMaypMob75bYw39+zW+cab3ERU9Boren1A+de4e/duo85vCr9njKmi1wcYvsbs7GzZsSbdNL3I0dERDRo0wNWrV9GlSxfk5ubi/v37Onub0tPTpXOgXFxccPz4cZ05Cq6uez7mxSvu0tPToVari23MpkyZgrCwMOl5ZmYm3NzcEBAQALVa/VJ1vkir1SIuLg5dunSBtbW1Qec2BaZUX9Nww18AoLIQmN06H5+dtEBOvsLg85uCil5jRa8PMJ0az4Ub51xSU/o9YwwVvT7AeDUWHCmSw6yapkePHuHatWsYPHgwfHx8YG1tjfj4ePTp0wcAkJycjBs3bsDPzw8A4Ofnhzlz5iAjIwNOTk4AnnWoarUaXl5eUsyLf9nExcVJcxRFpVJBpVLpjVtbWxvtA2vMuU2BKdSXk2e8fyxy8hVGnd8UVPQaK3p9QPnXaOzfAabwe8aYKnp9gOFrLM1cJn0i+CeffIKDBw/i+vXrOHLkCHr37g1LS0v0798fDg4OGD58OMLCwrB//34kJiZi6NCh8PPzQ9u2bQEAAQEB8PLywuDBg3HmzBnExMRg2rRpCA4OlhqeUaNG4ffff8fEiRNx6dIlrFixAps2bcK4cePKs3QiIiIyMSa9p+nmzZvo378/7ty5gxo1aqBdu3Y4evQoatSoAQBYsmQJLCws0KdPH+Tk5ECj0WDFihXS6y0tLbFz506MHj0afn5+qFSpEoKCgjBr1iwpxsPDA7t27cK4ceOwbNky1KpVCytXruTtBoiIiEiHSTdNGzZsKHa5jY0NIiIiEBERUWSMu7t7iScWduzYEadPny5TjkREZDh1Ju8yyrwqS4H5bZ6dt2jow4/X5wUadD4yXSZ9eI6IiIjIVLBpIiIiIpKBTRMRERGRDGyaiIiIiGRg00REREQkA5smIiIiIhnYNBERERHJwKaJiIiISAY2TUREREQysGkiIiIikoFNExEREZEMbJqIiIiIZGDTRERERCQDmyYiIiIiGdg0EREREcnApomIiIhIBjZNRERERDKwaSIiIiKSgU0TERERkQxsmoiIiIhkYNNEREREJAObJiIiIiIZrMo7Aaq46kzeJStOZSkwvw3QNDwGOXkKI2dFRERUNtzTRERERCQDmyYiIiIiGdg0EREREcnApomIiIhIBjZNRERERDKwaSIiIiKSgU0TERERkQxsmoiIiIhkYNNEREREJAObphdERESgTp06sLGxga+vL44fP17eKREREZEJYNP0nI0bNyIsLAwzZszAqVOn0Lx5c2g0GmRkZJR3akRERFTO+N1zz1m8eDFGjhyJoUOHAgAiIyOxa9curF69GpMnTy7n7IiIyBTJ/Z5NY/o7fIdnQY3liXua/k9ubi4SExPh7+8vjVlYWMDf3x8JCQnlmBkRERGZAu5p+j//+9//kJeXB2dnZ51xZ2dnXLp0SS8+JycHOTk50vMHDx4AAO7evQutVmvQ3LRaLbKzs9Fi6lbk5JvPXxByP1xW+QLZ2fmw0logz4zqk6ui1wdU/Boren1Axa+R9Zm/ghrv3LkDa2trg8378OFDAIAQouQcDLbWv5m5c+di5syZeuMeHh7lkI35G1DeCRhZRa8PqPg1VvT6gIpfI+szf8as8eHDh3BwcCg2hk3T/6levTosLS2Rnp6uM56eng4XFxe9+ClTpiAsLEx6np+fj7t376JatWpQKAzb5WdmZsLNzQ1//vkn1Gq1Qec2BazP/FX0Git6fUDFr5H1mT9j1SiEwMOHD+Hq6lpiLJum/6NUKuHj44P4+Hj06tULwLNGKD4+HiEhIXrxKpUKKpVKZ8zR0dGoOarV6gr7wwCwvoqgotdY0esDKn6NrM/8GaPGkvYwFWDT9JywsDAEBQWhdevWaNOmDZYuXYqsrCzpajoiIiL6+2LT9Jy+ffvi9u3bmD59OtLS0tCiRQvs3btX7+RwIiIi+vth0/SCkJCQQg/HlSeVSoUZM2boHQ6sKFif+avoNVb0+oCKXyPrM3+mUKNCyLnGjoiIiOhvjje3JCIiIpKBTRMRERGRDGyaiIiIiGRg00REREQkA5smEzF37ly8/vrrqFy5MpycnNCrVy8kJyfrxDx58gTBwcGoVq0a7O3t0adPH707mJuqr7/+Gt7e3tJNyfz8/LBnzx5puTnXVph58+ZBoVAgNDRUGjP3GsPDw6FQKHQejRo1kpabe30A8Ndff2HQoEGoVq0abG1t0axZM5w8eVJaLoTA9OnTUbNmTdja2sLf3x9Xrlwpx4xLp06dOnrvoUKhQHBwMADzfw/z8vLw2WefwcPDA7a2tqhXrx5mz56t851i5v4ePnz4EKGhoXB3d4etrS3eeOMNnDhxQlpubvUdOnQIPXr0gKurKxQKBbZv366zXE49d+/excCBA6FWq+Ho6Ijhw4fj0aNHxklYkEnQaDQiKipKnDt3TiQlJYnu3buL2rVri0ePHkkxo0aNEm5ubiI+Pl6cPHlStG3bVrzxxhvlmLV8P/30k9i1a5e4fPmySE5OFp9++qmwtrYW586dE0KYd20vOn78uKhTp47w9vYWY8eOlcbNvcYZM2aIJk2aiNTUVOlx+/Ztabm513f37l3h7u4uhgwZIo4dOyZ+//13ERMTI65evSrFzJs3Tzg4OIjt27eLM2fOiHfeeUd4eHiIx48fl2Pm8mVkZOi8f3FxcQKA2L9/vxDC/N/DOXPmiGrVqomdO3eKlJQUsXnzZmFvby+WLVsmxZj7e/jBBx8ILy8vcfDgQXHlyhUxY8YMoVarxc2bN4UQ5lff7t27xdSpU8XWrVsFALFt2zad5XLq6dq1q2jevLk4evSo+OWXX4Snp6fo37+/UfJl02SiMjIyBABx8OBBIYQQ9+/fF9bW1mLz5s1SzMWLFwUAkZCQUF5pvpQqVaqIlStXVqjaHj58KOrXry/i4uLEW2+9JTVNFaHGGTNmiObNmxe6rCLUN2nSJNGuXbsil+fn5wsXFxexYMECaez+/ftCpVKJ77///lWkaHBjx44V9erVE/n5+RXiPQwMDBTDhg3TGXv33XfFwIEDhRDm/x5mZ2cLS0tLsXPnTp3xVq1aialTp5p9fS82TXLquXDhggAgTpw4IcXs2bNHKBQK8ddffxk8Rx6eM1EPHjwAAFStWhUAkJiYCK1WC39/fymmUaNGqF27NhISEsolx7LKy8vDhg0bkJWVBT8/vwpVW3BwMAIDA3VqASrO+3flyhW4urqibt26GDhwIG7cuAGgYtT3008/oXXr1nj//ffh5OSEli1b4r///a+0PCUlBWlpaTo1Ojg4wNfX12xqfF5ubi7Wrl2LYcOGQaFQVIj38I033kB8fDwuX74MADhz5gwOHz6Mbt26ATD/9/Dp06fIy8uDjY2NzritrS0OHz5s9vW9SE49CQkJcHR0ROvWraUYf39/WFhY4NixYwbPiXcEN0H5+fkIDQ3Fm2++iaZNmwIA0tLSoFQq9b4U2NnZGWlpaeWQZen99ttv8PPzw5MnT2Bvb49t27bBy8sLSUlJZl8bAGzYsAGnTp3SOb+gQEV4/3x9fREdHY2GDRsiNTUVM2fORPv27XHu3LkKUd/vv/+Or7/+GmFhYfj0009x4sQJfPzxx1AqlQgKCpLqePFrlcypxudt374d9+/fx5AhQwBUjM/o5MmTkZmZiUaNGsHS0hJ5eXmYM2cOBg4cCABm/x5WrlwZfn5+mD17Nho3bgxnZ2d8//33SEhIgKenp9nX9yI59aSlpcHJyUlnuZWVFapWrWqUmtk0maDg4GCcO3cOhw8fLu9UDKphw4ZISkrCgwcPsGXLFgQFBeHgwYPlnZZB/Pnnnxg7dizi4uL0/gqsKAr+WgcAb29v+Pr6wt3dHZs2bYKtrW05ZmYY+fn5aN26Nf79738DAFq2bIlz584hMjISQUFB5Zyd4a1atQrdunWDq6treadiMJs2bcK6deuwfv16NGnSBElJSQgNDYWrq2uFeQ+/++47DBs2DK+99hosLS3RqlUr9O/fH4mJieWd2t8CD8+ZmJCQEOzcuRP79+9HrVq1pHEXFxfk5ubi/v37OvHp6elwcXF5xVmWjVKphKenJ3x8fDB37lw0b94cy5YtqxC1JSYmIiMjA61atYKVlRWsrKxw8OBBfPnll7CysoKzs7PZ1/giR0dHNGjQAFevXq0Q72HNmjXh5eWlM9a4cWPpEGRBHS9eTWZONRb4448/8PPPP2PEiBHSWEV4DydMmIDJkyejX79+aNasGQYPHoxx48Zh7ty5ACrGe1ivXj0cPHgQjx49wp9//onjx49Dq9Wibt26FaK+58mpx8XFBRkZGTrLnz59irt37xqlZjZNJkIIgZCQEGzbtg379u2Dh4eHznIfHx9YW1sjPj5eGktOTsaNGzfg5+f3qtM1iPz8fOTk5FSI2jp37ozffvsNSUlJ0qN169YYOHCg9P/mXuOLHj16hGvXrqFmzZoV4j1888039W7zcfnyZbi7uwMAPDw84OLiolNjZmYmjh07ZjY1FoiKioKTkxMCAwOlsYrwHmZnZ8PCQvefNUtLS+Tn5wOoWO9hpUqVULNmTdy7dw8xMTHo2bNnhaoPkPd++fn54f79+zp72vbt24f8/Hz4+voaPimDn1pOZTJ69Gjh4OAgDhw4oHNJcHZ2thQzatQoUbt2bbFv3z5x8uRJ4efnJ/z8/Moxa/kmT54sDh48KFJSUsTZs2fF5MmThUKhELGxsUII866tKM9fPSeE+dc4fvx4ceDAAZGSkiJ+/fVX4e/vL6pXry4yMjKEEOZf3/Hjx4WVlZWYM2eOuHLlili3bp2ws7MTa9eulWLmzZsnHB0dxY8//ijOnj0revbsadKXcxcmLy9P1K5dW0yaNElvmbm/h0FBQeK1116TbjmwdetWUb16dTFx4kQpxtzfw71794o9e/aI33//XcTGxormzZsLX19fkZubK4Qwv/oePnwoTp8+LU6fPi0AiMWLF4vTp0+LP/74Qwghr56uXbuKli1bimPHjonDhw+L+vXr85YDFR2AQh9RUVFSzOPHj8W//vUvUaVKFWFnZyd69+4tUlNTyy/pUhg2bJhwd3cXSqVS1KhRQ3Tu3FlqmIQw79qK8mLTZO419u3bV9SsWVMolUrx2muvib59++rcw8jc6xNCiB07doimTZsKlUolGjVqJL755hud5fn5+eKzzz4Tzs7OQqVSic6dO4vk5ORyyrZsYmJiBIBC8zb39zAzM1OMHTtW1K5dW9jY2Ii6deuKqVOnipycHCnG3N/DjRs3irp16wqlUilcXFxEcHCwuH//vrTc3Orbv39/of/2BQUFCSHk1XPnzh3Rv39/YW9vL9RqtRg6dKh4+PChUfJVCPHcrVKJiIiIqFA8p4mIiIhIBjZNRERERDKwaSIiIiKSgU0TERERkQxsmoiIiIhkYNNEREREJAObJiIiIiIZ2DQRERERycCmiciMDRkyBAqFAvPmzdMZ3759OxQKhV58o0aNoFKpkJaWBgA4cOAAFApFsY8DBw4gPDwcLVq00Jvv+vXrUCgUSEpKKnS+GjVqoHv37vjtt98KzV+j0cDS0hInTpwotLZevXqVboP8nzNnzuCdd96Bk5MTbGxsUKdOHfTt21fviz1/+OEHdOzYEQ4ODrC3t4e3tzdmzZqFu3fvAgCio6Ph6OgoxUdHRxe6jWxsbHTylvueCCHwzTffwNfXF/b29nB0dETr1q2xdOlSZGdnAwDCw8MLXWejRo1kbYuUlBQMGDAArq6usLGxQa1atdCzZ09cunRJJ27//v3o3r07qlWrBjs7O3h5eWH8+PH466+/pJi8vDwsWbIEzZo1g42NDapUqYJu3brh119/1Znr+e1kYWGBmjVrom/fvtKXHxfo2LFjobWNGjVKVm1ErxqbJiIzZ2Njgy+++AL37t0rNu7w4cN4/Pgx3nvvPaxZswYA8MYbbyA1NVV6fPDBB+jatavO2BtvvFHqnJKTk5GamoqYmBjk5OQgMDAQubm5OjE3btzAkSNHEBISgtWrV5d6HUW5ffs2OnfujKpVqyImJgYXL15EVFQUXF1dkZWVJcVNnToVffv2xeuvv449e/bg3LlzWLRoEc6cOYPvvvuuyPnVarXO9klNTcUff/yhEyP3PRk8eDBCQ0PRs2dP7N+/H0lJSfjss8/w448/IjY2Vopr0qSJ3joPHz5c4rbQarXo0qULHjx4gK1btyI5ORkbN25Es2bNcP/+fSnuP//5D/z9/eHi4oIffvgBFy5cQGRkJB48eIBFixYBeNbg9evXD7NmzcLYsWNx8eJFHDhwAG5ubujYsSO2b99e6Hb666+/8MMPPyA5ORnvv/++Xo4jR47Uq23+/Pkl1kZULozy5SxE9EoEBQWJf/zjH6JRo0ZiwoQJ0vi2bdvEiz/eQ4YMEZMnTxZ79uwRDRo0KHK+nj176o3PmDFDNG/eXG88JSVFABCnT58WQvz/75G6d++eFPPTTz8JAOLMmTM6rw0PDxf9+vUTFy9eFA4ODjpfTl1cLiXZtm2bsLKyElqttsiYY8eOCQBi6dKlhS4vyD8qKko4ODhI4y8+L4zc92Tjxo0CgNi+fbveHPn5+dL3iRW17eUo+BLU69evFxnz559/CqVSKUJDQwtdXrAtNmzYIACIn376SS/m3XffFdWqVROPHj0SQhS+nb788ksBQDx48EAae/H7GYlMHfc0EZk5S0tL/Pvf/8ZXX32FmzdvFhrz8OFDbN68GYMGDZL2PPzyyy9Gz+3BgwfYsGEDAECpVErjQghERUVh0KBBaNSoETw9PbFlyxaDrNPFxQVPnz7Ftm3bIIr4as1169bB3t4e//rXvwpd/vwhubKQ856sW7cODRs2RM+ePfWWKRQKODg4vFQOAFCjRg1YWFhgy5YtyMvLKzRm8+bNyM3NxcSJEwtdXrAt1q9fjwYNGqBHjx56MePHj8edO3cQFxdX6BwZGRnYtm0bLC0tYWlpWbZiiEwAmyaiCqB3795o0aIFZsyYUejyDRs2oH79+mjSpAksLS3Rr18/rFq1ymj51KpVSzpHZ/369XjnnXd0zsH5+eefkZ2dDY1GAwAYNGiQwfJp27YtPv30UwwYMADVq1dHt27dsGDBAqSnp0sxV65cQd26dWFtbV3q+R88eAB7e3udR7du3fTiSnpPrly5goYNG8pa52+//aa3Tjnn/bz22mv48ssvMX36dFSpUgVvv/02Zs+ejd9//10nD7VajZo1axY71+XLl9G4ceNClxWMX758WRor2E6VKlWCs7Mz9u/fj+DgYFSqVEnntStWrNCrbd26dSXWRlQe2DQRVRBffPEF1qxZg4sXL+otW716NQYNGiQ9HzRoEDZv3oyHDx8aJZdffvkFiYmJiI6ORoMGDRAZGamXT9++fWFlZQUA6N+/P3799Vdcu3bNIOufM2cO0tLSEBkZiSZNmiAyMhKNGjWSTkgvag+UHJUrV0ZSUpLOY+XKlYXGFveelCaHhg0b6q1z1qxZsl4bHByMtLQ0rFu3Dn5+fti8eTOaNGki7RUSQhR60UBhSpNzwXY6efIkFi1ahFatWmHOnDl6cQMHDtSr7Z133pG9HqJXiU0TUQXRoUMHaDQaTJkyRWf8woULOHr0KCZOnAgrKytYWVmhbdu2yM7Olg6dlUStVuPBgwd64wUnE794KMnDwwMNGzZEUFAQRowYgb59+0rL7t69i23btmHFihVSPq+99hqePn1q0BPCq1Wrhvfffx8LFy7ExYsX4erqioULFwIAGjRogN9//x1arbbU81pYWMDT01Pn8dprrxUaW9R7UpDDi1ewFUWpVOqt08nJSXbOlStXRo8ePTBnzhycOXMG7du3x+effy7l8eDBA6SmphY7R4MGDQpt/gBI4w0aNJDGCrZT48aNERYWhrZt22L06NF6r3VwcNCrrXLlyrJrI3qV2DQRVSDz5s3Djh07kJCQII2tWrUKHTp0wJkzZ3T+mg8LC5N9SKxhw4a4efOmziEuADh16hRsbGxQu3btIl8bHByMc+fOYdu2bQCenctTq1YtvXwWLVqE6OjoIs+9eRlKpRL16tWTrp4bMGAAHj16hBUrVhQa//yVZS+rsPekIIfLly/jxx9/1HuNEKLQJtUQCm5XULAt3nvvPSiVyiKvWCvYFv369cOVK1ewY8cOvZhFixahWrVq6NKlS5HrnTx5MjZu3IhTp069fBFE5cSqvBMgIsNp1qwZBg4ciC+//BLAs0vOv/vuO8yaNQtNmzbViR0xYgQWL16M8+fPo0mTJsXOq9Fo0LBhQ/Tv3x+ff/45XFxccOrUKUybNg1jx44t9uReOzs7jBw5EjNmzECvXr2watUqvPfee3r5uLm5YcqUKdi7dy8CAwMBPDsvpuAeUAWqVasGNze3Ite3c+dObNiwAf369UODBg0ghMCOHTuwe/duREVFAQB8fX0xceJE6T5EvXv3hqurK65evYrIyEi0a9cOY8eOLXR+IYR0n6vnOTk5wcJC/+/QF9+TAh988AG2bduG/v37Y9q0aQgICECNGjXw22+/YcmSJRgzZox0n6qnT5/qrVOhUMDZ2bnI7QAASUlJmDFjBgYPHgwvLy8olUocPHgQq1evxqRJkwA82+5LlixBSEgIMjMz8eGHH6JOnTq4efMmvv32W9jb22PRokXo168fNm/ejKCgICxYsACdO3dGZmYmIiIi8NNPP2Hz5s165ys9z83NDb1798b06dOxc+dOaTw7O1uvNpVKhSpVqhRbG1G5KLfr9ojopRV2WX5KSopQKpUCgNiyZYuwsLAQaWlphb6+cePGYty4ccXOV+Cvv/4SQUFBonbt2sLW1lZ4eXmJefPmidzcXCmmsFsOCCHEjRs3hJWVlZg3b54AII4fP17oOrp16yZ69+4t5QJA7zF8+PBit8m1a9fEyJEjRYMGDYStra1wdHQUr7/+uoiKitKL3bhxo+jQoYOoXLmyqFSpkvD29hazZs0q9pYDheUEQKSmpha5DZ9/T56Xl5cnvv76a/H6668LOzs7oVarhY+Pj1i2bJl0C4YZM2YUuj6VSlXsdhBCiNu3b4uPP/5YNG3aVNjb24vKlSuLZs2aiYULF4q8vDyd2Li4OKHRaESVKlWEjY2NaNSokfjkk0/ErVu3pBitVisWLFggmjRpIpRKpVCr1UKj0YjDhw/rzFXUrRkSEhIEAHHs2DEhxLNbDhRWm0ajKbE2ovKgEOIlzogkIiIi+pvgOU1EREREMrBpIiKzUnBjysIeJZ2bVdH88ssvRW4Le3v78k6PqMLh4TkiMisPHz7Uu4qvgLW1Ndzd3V9xRuXn8ePHOl+o+yJPT89XmA1RxcemiYiIiEgGHp4jIiIikoFNExEREZEMbJqIiIiIZGDTRERERCQDmyYiIiIiGdg0EREREcnApomIiIhIBjZNRERERDL8PzPpVXCLlVvfAAAAAElFTkSuQmCC",
      "text/plain": [
       "<Figure size 640x480 with 1 Axes>"
      ]
     },
     "metadata": {},
     "output_type": "display_data"
    },
    {
     "data": {
      "image/png": "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",
      "text/plain": [
       "<Figure size 640x480 with 1 Axes>"
      ]
     },
     "metadata": {},
     "output_type": "display_data"
    }
   ],
   "source": [
    "# 3. Visual Exploratory Data Analysis:\n",
    "data['NATURAL_SCIENCE_SCORE'].hist()\n",
    "plt.title('Histogram of NATURAL_SCIENCE_SCORE')\n",
    "plt.xlabel('NATURAL_SCIENCE_SCORE')\n",
    "plt.ylabel('Frequency')\n",
    "plt.show()\n",
    "\n",
    "sns.boxplot(data['NATURAL_SCIENCE_SCORE'])\n",
    "plt.title('Boxplot of NATURAL_SCIENCE_SCORE')\n",
    "plt.show()"
   ]
  },
  {
   "cell_type": "code",
   "execution_count": 9,
   "metadata": {},
   "outputs": [
    {
     "data": {
      "image/png": "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",
      "text/plain": [
       "<Figure size 640x480 with 1 Axes>"
      ]
     },
     "metadata": {},
     "output_type": "display_data"
    }
   ],
   "source": [
    "# 3. Visual Exploratory Data Analysis:\n",
    "data[\"GENDER\"].hist()\n",
    "plt.title('Histogram of Gender')\n",
    "plt.xlabel('Gender')\n",
    "plt.ylabel('Frequency')\n",
    "plt.show()\n",
    "\n"
   ]
  },
  {
   "cell_type": "code",
   "execution_count": 25,
   "metadata": {},
   "outputs": [
    {
     "data": {
      "image/png": "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",
      "text/plain": [
       "<Figure size 640x480 with 1 Axes>"
      ]
     },
     "metadata": {},
     "output_type": "display_data"
    },
    {
     "data": {
      "image/png": "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",
      "text/plain": [
       "<Figure size 640x480 with 1 Axes>"
      ]
     },
     "metadata": {},
     "output_type": "display_data"
    }
   ],
   "source": [
    "gender_female = data[data[\"GENDER\"]==\"F\"]\n",
    "gender_male = data[data[\"GENDER\"]==\"M\"]\n",
    "gender_male[\"ADMISSION\"].hist()\n",
    "plt.title('Histogram of Gender')\n",
    "plt.xlabel('Male')\n",
    "plt.ylabel('Yes/No admission')\n",
    "plt.show()\n",
    "gender_female[\"ADMISSION\"].hist()\n",
    "plt.title('Histogram of Gender')\n",
    "plt.xlabel('Female')\n",
    "plt.ylabel('Yes/No admission')\n",
    "plt.show()"
   ]
  },
  {
   "cell_type": "code",
   "execution_count": 16,
   "metadata": {
    "tags": []
   },
   "outputs": [],
   "source": [
    "\n",
    "# 5. Advanced EDA:\n",
    "# We'll use pairplot on a subset of columns for simplicity\n",
    "#sns.pairplot(data[['age', 'sex', 'bmi', 'bp', 'target']])\n",
    "#plt.show()"
   ]
  },
  {
   "cell_type": "code",
   "execution_count": 9,
   "metadata": {
    "tags": []
   },
   "outputs": [
    {
     "data": {
      "text/plain": [
       "0         0\n",
       "1         1\n",
       "2         1\n",
       "3         1\n",
       "4         0\n",
       "         ..\n",
       "136873    1\n",
       "136874    0\n",
       "136875    1\n",
       "136876    1\n",
       "136877    0\n",
       "Name: GENDER, Length: 136878, dtype: object"
      ]
     },
     "execution_count": 9,
     "metadata": {},
     "output_type": "execute_result"
    }
   ],
   "source": [
    "#data.loc[data.GENDER == \"F\", \"GENDER\"] = 0\n",
    "#data.loc[data.GENDER == \"M\", \"GENDER\"] = 1\n",
    "#data[\"GENDER\"]"
   ]
  },
  {
   "cell_type": "code",
<<<<<<< HEAD
   "execution_count": 10,
=======
   "execution_count": 9,
>>>>>>> 009afc340e99c15e35f108bbe407404c8894e37b
   "metadata": {
    "tags": []
   },
   "outputs": [
    {
     "name": "stdout",
     "output_type": "stream",
     "text": [
      "numericals:\n",
      "Index(['ADMISSION', 'NATURAL_SCIENCE_SCORE', 'ENGLISH_SCORE', 'READING_SCORE',\n",
      "       'MATH_SCORE', 'SOCIAL_SCIENCE_SCORE', 'AGE'],\n",
      "      dtype='object')\n",
      "Booleans:\n",
      "Index(['PUBLIC_SCHOOL', 'BILINGUAL_SCHOOL', 'FAMILY_HAS_CAR',\n",
      "       'HAS_INTERNET_ACCESS'],\n",
      "      dtype='object')\n",
      "categoricals:\n",
      "Index(['SCHOOL_CALENDAR', 'GENDER', 'PARENTS_EDUCATION', 'FAMILY_INCOME_LEVEL',\n",
      "       'PEOPLE_AT_HOME'],\n",
      "      dtype='object')\n"
     ]
    }
   ],
   "source": [
    "data.drop(columns=[\"ADMISSION\"])\n",
    "numerical= data.select_dtypes(include= [\"int64\", \"float64\"]).columns\n",
    "boolean = data.select_dtypes(include= [\"bool\"]).columns\n",
    "categorical = data.select_dtypes(include= [\"object\"]).columns\n",
    "\n",
    "print(\"numericals:\")\n",
    "print(numerical)\n",
    "print(\"Booleans:\")\n",
    "print(boolean)\n",
    "print(\"categoricals:\")\n",
    "print(categorical)"
   ]
  },
  {
   "cell_type": "markdown",
   "metadata": {},
   "source": [
    "Data Transformation\n",
    "\n",
    "numeric data is scaled using the standard scaler and categorical data is one hot encoded."
   ]
  },
  {
   "cell_type": "code",
<<<<<<< HEAD
   "execution_count": 11,
=======
   "execution_count": 10,
>>>>>>> 009afc340e99c15e35f108bbe407404c8894e37b
   "metadata": {
    "tags": []
   },
   "outputs": [],
   "source": [
    "from sklearn.compose import ColumnTransformer\n",
    "from sklearn.pipeline import Pipeline\n",
    "from sklearn.preprocessing import OneHotEncoder, StandardScaler\n",
    "\n",
    "\n",
    "numeric_transformer = Pipeline(\n",
    "    steps=[(\"scaler\", StandardScaler())]\n",
    ")\n",
    "\n",
    "categorical_transformer = Pipeline(\n",
    "    steps=[\n",
    "        (\"encoder\", OneHotEncoder(handle_unknown=\"ignore\")),\n",
    "    ]\n",
    ")\n",
    "binary_transformer = \"passthrough\"\n",
    "\n",
    "preprocessor = ColumnTransformer(\n",
    "    transformers=[\n",
    "        (\"num\", numeric_transformer, numerical),\n",
    "        (\"cat\", categorical_transformer, categorical),\n",
    "        (\"bin\", binary_transformer, boolean)\n",
    "    ]\n",
    ")"
   ]
  },
  {
   "cell_type": "code",
<<<<<<< HEAD
   "execution_count": 16,
=======
   "execution_count": 11,
>>>>>>> 009afc340e99c15e35f108bbe407404c8894e37b
   "metadata": {
    "tags": []
   },
   "outputs": [
    {
     "name": "stdout",
     "output_type": "stream",
     "text": [
<<<<<<< HEAD
=======
      "[[-0.84378954 -0.805665   -0.87156668 ...  0.          0.\n",
      "   1.        ]\n",
      " [-0.84378954  0.2710087  -0.34791575 ...  0.          0.\n",
      "   1.        ]\n",
      " [ 1.18512965  1.83707952  1.44745887 ...  0.          0.\n",
      "   1.        ]\n",
      " ...\n",
      " [-0.84378954 -1.39294156 -1.24560306 ...  0.          0.\n",
      "   1.        ]\n",
      " [-0.84378954  0.2710087  -0.79675941 ...  0.          0.\n",
      "   1.        ]\n",
      " [-0.84378954 -0.60990615 -1.09598851 ...  0.          0.\n",
      "   1.        ]]\n",
>>>>>>> 009afc340e99c15e35f108bbe407404c8894e37b
      "(136878, 34)\n"
     ]
    }
   ],
   "source": [
    "preprocessor.fit(data)\n",
    "preprocessed_data = preprocessor.transform(data)\n",
    "print(preprocessed_data.shape)"
   ]
  },
  {
   "cell_type": "code",
   "execution_count": 21,
   "metadata": {},
   "outputs": [
    {
     "name": "stdout",
     "output_type": "stream",
     "text": [
      "[-0.84378954  0.2710087  -0.34791575  1.05925546  0.2742427   0.9704442\n",
      "  0.15964697  1.          0.          0.          0.          1.\n",
      "  0.          1.          0.          0.          0.          0.\n",
      "  0.          1.          0.          0.          0.          0.\n",
      "  0.          0.          0.          0.          0.          1.\n",
      "  1.          0.          0.          1.        ]\n"
     ]
    }
   ],
   "source": [
    "print(preprocessed_data[1])\n"
   ]
  },
  {
   "cell_type": "code",
   "execution_count": null,
   "metadata": {},
   "outputs": [],
   "source": []
  },
  {
   "cell_type": "code",
   "execution_count": null,
   "metadata": {},
   "outputs": [],
   "source": []
  }
 ],
 "metadata": {
  "kernelspec": {
   "display_name": "Python 3",
   "language": "python",
   "name": "python3"
  },
  "language_info": {
   "codemirror_mode": {
    "name": "ipython",
    "version": 3
   },
   "file_extension": ".py",
   "mimetype": "text/x-python",
   "name": "python",
   "nbconvert_exporter": "python",
   "pygments_lexer": "ipython3",
   "version": "3.10.11"
  }
 },
 "nbformat": 4,
 "nbformat_minor": 4
}
